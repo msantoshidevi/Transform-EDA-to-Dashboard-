{
  "nbformat": 4,
  "nbformat_minor": 0,
  "metadata": {
    "colab": {
      "provenance": [],
      "authorship_tag": "ABX9TyNkOyQ5yvhLTgDToii3mG1s",
      "include_colab_link": true
    },
    "kernelspec": {
      "name": "python3",
      "display_name": "Python 3"
    },
    "language_info": {
      "name": "python"
    }
  },
  "cells": [
    {
      "cell_type": "markdown",
      "metadata": {
        "id": "view-in-github",
        "colab_type": "text"
      },
      "source": [
        "<a href=\"https://colab.research.google.com/github/msantoshidevi/Transform-EDA-to-Dashboard-/blob/main/Transform_EDA_to_Dashboad.ipynb\" target=\"_parent\"><img src=\"https://colab.research.google.com/assets/colab-badge.svg\" alt=\"Open In Colab\"/></a>"
      ]
    },
    {
      "cell_type": "markdown",
      "source": [
        "##**PROJECT NAME** - Transform EDA Project to Dashboard"
      ],
      "metadata": {
        "id": "qPV02bedOhJI"
      }
    },
    {
      "cell_type": "markdown",
      "source": [
        "**Project type** - Dashboard on Hotel Booking\n",
        "\n",
        "**Contribution** - Individual"
      ],
      "metadata": {
        "id": "Sb4PWecJP7j9"
      }
    },
    {
      "cell_type": "markdown",
      "source": [
        "# **Project Summary:**"
      ],
      "metadata": {
        "id": "1xKUyaeET31w"
      }
    },
    {
      "cell_type": "markdown",
      "source": [
        "The objective of this project is to perform an exploratory data analysis (EDA) on Airbnb data using Tableau, with the aim of gaining insights into pricing trends, property characteristics, and user behavior in the Hotel Booking ecosystem. The goal was to explore the customer data of a hotel and identify any potential trends or correlations. The purpose of this exploratory data analysis (EDA) was to explore the hotel booking data set and identify potential relationships between key variables. By summarizing the project in this way, we can effectively communicate the objectives, methods, findings, and visualizations of Hotel Booking analysis in Tableau Dashboard to stakeholders and other interested parties."
      ],
      "metadata": {
        "id": "vyiyLmfLT-iF"
      }
    },
    {
      "cell_type": "markdown",
      "source": [
        "# **GitHub Link:**"
      ],
      "metadata": {
        "id": "Wac7L0LBXX8d"
      }
    },
    {
      "cell_type": "markdown",
      "source": [],
      "metadata": {
        "id": "XgNKD6rWXi6E"
      }
    },
    {
      "cell_type": "code",
      "execution_count": null,
      "metadata": {
        "id": "c0G4pgu4Nry0"
      },
      "outputs": [],
      "source": []
    }
  ]
}