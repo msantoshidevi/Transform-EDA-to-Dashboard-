{
  "cells": [
    {
      "cell_type": "markdown",
      "metadata": {
        "id": "view-in-github",
        "colab_type": "text"
      },
      "source": [
        "<a href=\"https://colab.research.google.com/github/msantoshidevi/Transform-EDA-to-Dashboard-/blob/branch_1/Transform_EDA_to_Dashboad.ipynb\" target=\"_parent\"><img src=\"https://colab.research.google.com/assets/colab-badge.svg\" alt=\"Open In Colab\"/></a>"
      ]
    },
    {
      "cell_type": "markdown",
      "metadata": {
        "id": "qPV02bedOhJI"
      },
      "source": [
        "##**PROJECT NAME** - Transform EDA Project to Dashboard"
      ]
    },
    {
      "cell_type": "markdown",
      "metadata": {
        "id": "Sb4PWecJP7j9"
      },
      "source": [
        "**Project type** - Dashboard on Hotel Booking\n",
        "\n",
        "**Contribution** - Individual"
      ]
    },
    {
      "cell_type": "markdown",
      "metadata": {
        "id": "1xKUyaeET31w"
      },
      "source": [
        "# **Project Summary:**"
      ]
    },
    {
      "cell_type": "markdown",
      "metadata": {
        "id": "vyiyLmfLT-iF"
      },
      "source": [
        "The objective of this project is to perform an exploratory data analysis (EDA) on Airbnb data using Tableau, with the aim of gaining insights into pricing trends, property characteristics, and user behavior in the Hotel Booking ecosystem. The goal was to explore the customer data of a hotel and identify any potential trends or correlations. The purpose of this exploratory data analysis (EDA) was to explore the hotel booking data set and identify potential relationships between key variables. By summarizing the project in this way, we can effectively communicate the objectives, methods, findings, and visualizations of Hotel Booking analysis in Tableau Dashboard to stakeholders and other interested parties."
      ]
    },
    {
      "cell_type": "markdown",
      "metadata": {
        "id": "Wac7L0LBXX8d"
      },
      "source": [
        "# **GitHub Link:**"
      ]
    },
    {
      "cell_type": "markdown",
      "metadata": {
        "id": "XgNKD6rWXi6E"
      },
      "source": [
        "https://github.com/msantoshidevi/Transform-EDA-to-Dashboard-/tree/main"
      ]
    },
    {
      "cell_type": "markdown",
      "metadata": {
        "id": "nRrbTP9kruuB"
      },
      "source": [
        "# **Problem Statement**"
      ]
    },
    {
      "cell_type": "markdown",
      "metadata": {
        "id": "o4KCsHk5r87f"
      },
      "source": [
        "Have you ever wondered when the best time of year to book a hotel room is? Or the optimal length of stay in order to get the best daily rate? What if you wanted to predict whether or not a hotel was likely to receive a disproportionately high number of special requests? This hotel booking dataset can help you explore those questions!\n",
        "This data set contains booking information for a city hotel and a resort hotel, and includes information such as when the booking was made, length of stay, the number of adults, children, and/or babies, and the number of available parking spaces, among other things. All personally identifying information has been removed from the data.\n",
        "Explore and analyze the data to discover important factors that govern the bookings."
      ]
    },
    {
      "cell_type": "markdown",
      "metadata": {
        "id": "3SZSvO4itne4"
      },
      "source": [
        "# **Define Your Business Objective?**"
      ]
    },
    {
      "cell_type": "markdown",
      "metadata": {
        "id": "3BQIKud1trRW"
      },
      "source": [
        "Create Stunning Tableau Dashboard from the same dataset on which EDA was performed for the capstone project. Which will give us meaningful insights."
      ]
    },
    {
      "cell_type": "markdown",
      "metadata": {
        "id": "nNec5tmyt64-"
      },
      "source": [
        "Let's Begin!"
      ]
    },
    {
      "cell_type": "markdown",
      "metadata": {
        "id": "eqgAFbaOuq8u"
      },
      "source": [
        "# **1. Know Your Data**"
      ]
    },
    {
      "cell_type": "markdown",
      "metadata": {
        "id": "VpXSadhhuuOW"
      },
      "source": [
        "# Import Libraries"
      ]
    },
    {
      "cell_type": "code",
      "execution_count": null,
      "metadata": {
        "id": "4pKPs0dJuZW_"
      },
      "outputs": [],
      "source": [
        "import numpy as np\n",
        "import pandas as pd\n",
        "import matplotlib.pyplot as plt\n",
        "import seaborn as sns"
      ]
    },
    {
      "cell_type": "markdown",
      "metadata": {
        "id": "vks8jPn3u8lN"
      },
      "source": [
        "# Dataset Loading"
      ]
    },
    {
      "cell_type": "code",
      "execution_count": null,
      "metadata": {
        "colab": {
          "base_uri": "https://localhost:8080/"
        },
        "id": "NPQV3mPyuhGI",
        "outputId": "59214128-8c41-463d-8c5d-4aab002489bd"
      },
      "outputs": [
        {
          "name": "stdout",
          "output_type": "stream",
          "text": [
            "Mounted at /content/drive\n"
          ]
        }
      ],
      "source": [
        "from google.colab import drive\n",
        "drive.mount('/content/drive')"
      ]
    },
    {
      "cell_type": "code",
      "execution_count": null,
      "metadata": {
        "colab": {
          "base_uri": "https://localhost:8080/",
          "height": 617
        },
        "id": "JFec2quZvM-N",
        "outputId": "047e2488-7856-4999-cd7b-ace56d75dd2c"
      },
      "outputs": [
        {
          "data": {
            "application/vnd.google.colaboratory.intrinsic+json": {
              "type": "dataframe",
              "variable_name": "hotel_df"
            },
            "text/html": [
              "\n",
              "  <div id=\"df-26c3e316-57db-45b3-86bb-3cb54fe3cd57\" class=\"colab-df-container\">\n",
              "    <div>\n",
              "<style scoped>\n",
              "    .dataframe tbody tr th:only-of-type {\n",
              "        vertical-align: middle;\n",
              "    }\n",
              "\n",
              "    .dataframe tbody tr th {\n",
              "        vertical-align: top;\n",
              "    }\n",
              "\n",
              "    .dataframe thead th {\n",
              "        text-align: right;\n",
              "    }\n",
              "</style>\n",
              "<table border=\"1\" class=\"dataframe\">\n",
              "  <thead>\n",
              "    <tr style=\"text-align: right;\">\n",
              "      <th></th>\n",
              "      <th>hotel</th>\n",
              "      <th>is_canceled</th>\n",
              "      <th>lead_time</th>\n",
              "      <th>arrival_date_year</th>\n",
              "      <th>arrival_date_month</th>\n",
              "      <th>arrival_date_week_number</th>\n",
              "      <th>arrival_date_day_of_month</th>\n",
              "      <th>stays_in_weekend_nights</th>\n",
              "      <th>stays_in_week_nights</th>\n",
              "      <th>adults</th>\n",
              "      <th>...</th>\n",
              "      <th>deposit_type</th>\n",
              "      <th>agent</th>\n",
              "      <th>company</th>\n",
              "      <th>days_in_waiting_list</th>\n",
              "      <th>customer_type</th>\n",
              "      <th>adr</th>\n",
              "      <th>required_car_parking_spaces</th>\n",
              "      <th>total_of_special_requests</th>\n",
              "      <th>reservation_status</th>\n",
              "      <th>reservation_status_date</th>\n",
              "    </tr>\n",
              "  </thead>\n",
              "  <tbody>\n",
              "    <tr>\n",
              "      <th>0</th>\n",
              "      <td>Resort Hotel</td>\n",
              "      <td>0</td>\n",
              "      <td>342</td>\n",
              "      <td>2015</td>\n",
              "      <td>July</td>\n",
              "      <td>27</td>\n",
              "      <td>1</td>\n",
              "      <td>0</td>\n",
              "      <td>0</td>\n",
              "      <td>2</td>\n",
              "      <td>...</td>\n",
              "      <td>No Deposit</td>\n",
              "      <td>NaN</td>\n",
              "      <td>NaN</td>\n",
              "      <td>0</td>\n",
              "      <td>Transient</td>\n",
              "      <td>0.00</td>\n",
              "      <td>0</td>\n",
              "      <td>0</td>\n",
              "      <td>Check-Out</td>\n",
              "      <td>2015-07-01</td>\n",
              "    </tr>\n",
              "    <tr>\n",
              "      <th>1</th>\n",
              "      <td>Resort Hotel</td>\n",
              "      <td>0</td>\n",
              "      <td>737</td>\n",
              "      <td>2015</td>\n",
              "      <td>July</td>\n",
              "      <td>27</td>\n",
              "      <td>1</td>\n",
              "      <td>0</td>\n",
              "      <td>0</td>\n",
              "      <td>2</td>\n",
              "      <td>...</td>\n",
              "      <td>No Deposit</td>\n",
              "      <td>NaN</td>\n",
              "      <td>NaN</td>\n",
              "      <td>0</td>\n",
              "      <td>Transient</td>\n",
              "      <td>0.00</td>\n",
              "      <td>0</td>\n",
              "      <td>0</td>\n",
              "      <td>Check-Out</td>\n",
              "      <td>2015-07-01</td>\n",
              "    </tr>\n",
              "    <tr>\n",
              "      <th>2</th>\n",
              "      <td>Resort Hotel</td>\n",
              "      <td>0</td>\n",
              "      <td>7</td>\n",
              "      <td>2015</td>\n",
              "      <td>July</td>\n",
              "      <td>27</td>\n",
              "      <td>1</td>\n",
              "      <td>0</td>\n",
              "      <td>1</td>\n",
              "      <td>1</td>\n",
              "      <td>...</td>\n",
              "      <td>No Deposit</td>\n",
              "      <td>NaN</td>\n",
              "      <td>NaN</td>\n",
              "      <td>0</td>\n",
              "      <td>Transient</td>\n",
              "      <td>75.00</td>\n",
              "      <td>0</td>\n",
              "      <td>0</td>\n",
              "      <td>Check-Out</td>\n",
              "      <td>2015-07-02</td>\n",
              "    </tr>\n",
              "    <tr>\n",
              "      <th>3</th>\n",
              "      <td>Resort Hotel</td>\n",
              "      <td>0</td>\n",
              "      <td>13</td>\n",
              "      <td>2015</td>\n",
              "      <td>July</td>\n",
              "      <td>27</td>\n",
              "      <td>1</td>\n",
              "      <td>0</td>\n",
              "      <td>1</td>\n",
              "      <td>1</td>\n",
              "      <td>...</td>\n",
              "      <td>No Deposit</td>\n",
              "      <td>304.0</td>\n",
              "      <td>NaN</td>\n",
              "      <td>0</td>\n",
              "      <td>Transient</td>\n",
              "      <td>75.00</td>\n",
              "      <td>0</td>\n",
              "      <td>0</td>\n",
              "      <td>Check-Out</td>\n",
              "      <td>2015-07-02</td>\n",
              "    </tr>\n",
              "    <tr>\n",
              "      <th>4</th>\n",
              "      <td>Resort Hotel</td>\n",
              "      <td>0</td>\n",
              "      <td>14</td>\n",
              "      <td>2015</td>\n",
              "      <td>July</td>\n",
              "      <td>27</td>\n",
              "      <td>1</td>\n",
              "      <td>0</td>\n",
              "      <td>2</td>\n",
              "      <td>2</td>\n",
              "      <td>...</td>\n",
              "      <td>No Deposit</td>\n",
              "      <td>240.0</td>\n",
              "      <td>NaN</td>\n",
              "      <td>0</td>\n",
              "      <td>Transient</td>\n",
              "      <td>98.00</td>\n",
              "      <td>0</td>\n",
              "      <td>1</td>\n",
              "      <td>Check-Out</td>\n",
              "      <td>2015-07-03</td>\n",
              "    </tr>\n",
              "    <tr>\n",
              "      <th>...</th>\n",
              "      <td>...</td>\n",
              "      <td>...</td>\n",
              "      <td>...</td>\n",
              "      <td>...</td>\n",
              "      <td>...</td>\n",
              "      <td>...</td>\n",
              "      <td>...</td>\n",
              "      <td>...</td>\n",
              "      <td>...</td>\n",
              "      <td>...</td>\n",
              "      <td>...</td>\n",
              "      <td>...</td>\n",
              "      <td>...</td>\n",
              "      <td>...</td>\n",
              "      <td>...</td>\n",
              "      <td>...</td>\n",
              "      <td>...</td>\n",
              "      <td>...</td>\n",
              "      <td>...</td>\n",
              "      <td>...</td>\n",
              "      <td>...</td>\n",
              "    </tr>\n",
              "    <tr>\n",
              "      <th>119385</th>\n",
              "      <td>City Hotel</td>\n",
              "      <td>0</td>\n",
              "      <td>23</td>\n",
              "      <td>2017</td>\n",
              "      <td>August</td>\n",
              "      <td>35</td>\n",
              "      <td>30</td>\n",
              "      <td>2</td>\n",
              "      <td>5</td>\n",
              "      <td>2</td>\n",
              "      <td>...</td>\n",
              "      <td>No Deposit</td>\n",
              "      <td>394.0</td>\n",
              "      <td>NaN</td>\n",
              "      <td>0</td>\n",
              "      <td>Transient</td>\n",
              "      <td>96.14</td>\n",
              "      <td>0</td>\n",
              "      <td>0</td>\n",
              "      <td>Check-Out</td>\n",
              "      <td>2017-09-06</td>\n",
              "    </tr>\n",
              "    <tr>\n",
              "      <th>119386</th>\n",
              "      <td>City Hotel</td>\n",
              "      <td>0</td>\n",
              "      <td>102</td>\n",
              "      <td>2017</td>\n",
              "      <td>August</td>\n",
              "      <td>35</td>\n",
              "      <td>31</td>\n",
              "      <td>2</td>\n",
              "      <td>5</td>\n",
              "      <td>3</td>\n",
              "      <td>...</td>\n",
              "      <td>No Deposit</td>\n",
              "      <td>9.0</td>\n",
              "      <td>NaN</td>\n",
              "      <td>0</td>\n",
              "      <td>Transient</td>\n",
              "      <td>225.43</td>\n",
              "      <td>0</td>\n",
              "      <td>2</td>\n",
              "      <td>Check-Out</td>\n",
              "      <td>2017-09-07</td>\n",
              "    </tr>\n",
              "    <tr>\n",
              "      <th>119387</th>\n",
              "      <td>City Hotel</td>\n",
              "      <td>0</td>\n",
              "      <td>34</td>\n",
              "      <td>2017</td>\n",
              "      <td>August</td>\n",
              "      <td>35</td>\n",
              "      <td>31</td>\n",
              "      <td>2</td>\n",
              "      <td>5</td>\n",
              "      <td>2</td>\n",
              "      <td>...</td>\n",
              "      <td>No Deposit</td>\n",
              "      <td>9.0</td>\n",
              "      <td>NaN</td>\n",
              "      <td>0</td>\n",
              "      <td>Transient</td>\n",
              "      <td>157.71</td>\n",
              "      <td>0</td>\n",
              "      <td>4</td>\n",
              "      <td>Check-Out</td>\n",
              "      <td>2017-09-07</td>\n",
              "    </tr>\n",
              "    <tr>\n",
              "      <th>119388</th>\n",
              "      <td>City Hotel</td>\n",
              "      <td>0</td>\n",
              "      <td>109</td>\n",
              "      <td>2017</td>\n",
              "      <td>August</td>\n",
              "      <td>35</td>\n",
              "      <td>31</td>\n",
              "      <td>2</td>\n",
              "      <td>5</td>\n",
              "      <td>2</td>\n",
              "      <td>...</td>\n",
              "      <td>No Deposit</td>\n",
              "      <td>89.0</td>\n",
              "      <td>NaN</td>\n",
              "      <td>0</td>\n",
              "      <td>Transient</td>\n",
              "      <td>104.40</td>\n",
              "      <td>0</td>\n",
              "      <td>0</td>\n",
              "      <td>Check-Out</td>\n",
              "      <td>2017-09-07</td>\n",
              "    </tr>\n",
              "    <tr>\n",
              "      <th>119389</th>\n",
              "      <td>City Hotel</td>\n",
              "      <td>0</td>\n",
              "      <td>205</td>\n",
              "      <td>2017</td>\n",
              "      <td>August</td>\n",
              "      <td>35</td>\n",
              "      <td>29</td>\n",
              "      <td>2</td>\n",
              "      <td>7</td>\n",
              "      <td>2</td>\n",
              "      <td>...</td>\n",
              "      <td>No Deposit</td>\n",
              "      <td>9.0</td>\n",
              "      <td>NaN</td>\n",
              "      <td>0</td>\n",
              "      <td>Transient</td>\n",
              "      <td>151.20</td>\n",
              "      <td>0</td>\n",
              "      <td>2</td>\n",
              "      <td>Check-Out</td>\n",
              "      <td>2017-09-07</td>\n",
              "    </tr>\n",
              "  </tbody>\n",
              "</table>\n",
              "<p>119390 rows × 32 columns</p>\n",
              "</div>\n",
              "    <div class=\"colab-df-buttons\">\n",
              "\n",
              "  <div class=\"colab-df-container\">\n",
              "    <button class=\"colab-df-convert\" onclick=\"convertToInteractive('df-26c3e316-57db-45b3-86bb-3cb54fe3cd57')\"\n",
              "            title=\"Convert this dataframe to an interactive table.\"\n",
              "            style=\"display:none;\">\n",
              "\n",
              "  <svg xmlns=\"http://www.w3.org/2000/svg\" height=\"24px\" viewBox=\"0 -960 960 960\">\n",
              "    <path d=\"M120-120v-720h720v720H120Zm60-500h600v-160H180v160Zm220 220h160v-160H400v160Zm0 220h160v-160H400v160ZM180-400h160v-160H180v160Zm440 0h160v-160H620v160ZM180-180h160v-160H180v160Zm440 0h160v-160H620v160Z\"/>\n",
              "  </svg>\n",
              "    </button>\n",
              "\n",
              "  <style>\n",
              "    .colab-df-container {\n",
              "      display:flex;\n",
              "      gap: 12px;\n",
              "    }\n",
              "\n",
              "    .colab-df-convert {\n",
              "      background-color: #E8F0FE;\n",
              "      border: none;\n",
              "      border-radius: 50%;\n",
              "      cursor: pointer;\n",
              "      display: none;\n",
              "      fill: #1967D2;\n",
              "      height: 32px;\n",
              "      padding: 0 0 0 0;\n",
              "      width: 32px;\n",
              "    }\n",
              "\n",
              "    .colab-df-convert:hover {\n",
              "      background-color: #E2EBFA;\n",
              "      box-shadow: 0px 1px 2px rgba(60, 64, 67, 0.3), 0px 1px 3px 1px rgba(60, 64, 67, 0.15);\n",
              "      fill: #174EA6;\n",
              "    }\n",
              "\n",
              "    .colab-df-buttons div {\n",
              "      margin-bottom: 4px;\n",
              "    }\n",
              "\n",
              "    [theme=dark] .colab-df-convert {\n",
              "      background-color: #3B4455;\n",
              "      fill: #D2E3FC;\n",
              "    }\n",
              "\n",
              "    [theme=dark] .colab-df-convert:hover {\n",
              "      background-color: #434B5C;\n",
              "      box-shadow: 0px 1px 3px 1px rgba(0, 0, 0, 0.15);\n",
              "      filter: drop-shadow(0px 1px 2px rgba(0, 0, 0, 0.3));\n",
              "      fill: #FFFFFF;\n",
              "    }\n",
              "  </style>\n",
              "\n",
              "    <script>\n",
              "      const buttonEl =\n",
              "        document.querySelector('#df-26c3e316-57db-45b3-86bb-3cb54fe3cd57 button.colab-df-convert');\n",
              "      buttonEl.style.display =\n",
              "        google.colab.kernel.accessAllowed ? 'block' : 'none';\n",
              "\n",
              "      async function convertToInteractive(key) {\n",
              "        const element = document.querySelector('#df-26c3e316-57db-45b3-86bb-3cb54fe3cd57');\n",
              "        const dataTable =\n",
              "          await google.colab.kernel.invokeFunction('convertToInteractive',\n",
              "                                                    [key], {});\n",
              "        if (!dataTable) return;\n",
              "\n",
              "        const docLinkHtml = 'Like what you see? Visit the ' +\n",
              "          '<a target=\"_blank\" href=https://colab.research.google.com/notebooks/data_table.ipynb>data table notebook</a>'\n",
              "          + ' to learn more about interactive tables.';\n",
              "        element.innerHTML = '';\n",
              "        dataTable['output_type'] = 'display_data';\n",
              "        await google.colab.output.renderOutput(dataTable, element);\n",
              "        const docLink = document.createElement('div');\n",
              "        docLink.innerHTML = docLinkHtml;\n",
              "        element.appendChild(docLink);\n",
              "      }\n",
              "    </script>\n",
              "  </div>\n",
              "\n",
              "\n",
              "<div id=\"df-5bfe5ad5-fb45-4b0e-b9fe-6d98bfed6f55\">\n",
              "  <button class=\"colab-df-quickchart\" onclick=\"quickchart('df-5bfe5ad5-fb45-4b0e-b9fe-6d98bfed6f55')\"\n",
              "            title=\"Suggest charts\"\n",
              "            style=\"display:none;\">\n",
              "\n",
              "<svg xmlns=\"http://www.w3.org/2000/svg\" height=\"24px\"viewBox=\"0 0 24 24\"\n",
              "     width=\"24px\">\n",
              "    <g>\n",
              "        <path d=\"M19 3H5c-1.1 0-2 .9-2 2v14c0 1.1.9 2 2 2h14c1.1 0 2-.9 2-2V5c0-1.1-.9-2-2-2zM9 17H7v-7h2v7zm4 0h-2V7h2v10zm4 0h-2v-4h2v4z\"/>\n",
              "    </g>\n",
              "</svg>\n",
              "  </button>\n",
              "\n",
              "<style>\n",
              "  .colab-df-quickchart {\n",
              "      --bg-color: #E8F0FE;\n",
              "      --fill-color: #1967D2;\n",
              "      --hover-bg-color: #E2EBFA;\n",
              "      --hover-fill-color: #174EA6;\n",
              "      --disabled-fill-color: #AAA;\n",
              "      --disabled-bg-color: #DDD;\n",
              "  }\n",
              "\n",
              "  [theme=dark] .colab-df-quickchart {\n",
              "      --bg-color: #3B4455;\n",
              "      --fill-color: #D2E3FC;\n",
              "      --hover-bg-color: #434B5C;\n",
              "      --hover-fill-color: #FFFFFF;\n",
              "      --disabled-bg-color: #3B4455;\n",
              "      --disabled-fill-color: #666;\n",
              "  }\n",
              "\n",
              "  .colab-df-quickchart {\n",
              "    background-color: var(--bg-color);\n",
              "    border: none;\n",
              "    border-radius: 50%;\n",
              "    cursor: pointer;\n",
              "    display: none;\n",
              "    fill: var(--fill-color);\n",
              "    height: 32px;\n",
              "    padding: 0;\n",
              "    width: 32px;\n",
              "  }\n",
              "\n",
              "  .colab-df-quickchart:hover {\n",
              "    background-color: var(--hover-bg-color);\n",
              "    box-shadow: 0 1px 2px rgba(60, 64, 67, 0.3), 0 1px 3px 1px rgba(60, 64, 67, 0.15);\n",
              "    fill: var(--button-hover-fill-color);\n",
              "  }\n",
              "\n",
              "  .colab-df-quickchart-complete:disabled,\n",
              "  .colab-df-quickchart-complete:disabled:hover {\n",
              "    background-color: var(--disabled-bg-color);\n",
              "    fill: var(--disabled-fill-color);\n",
              "    box-shadow: none;\n",
              "  }\n",
              "\n",
              "  .colab-df-spinner {\n",
              "    border: 2px solid var(--fill-color);\n",
              "    border-color: transparent;\n",
              "    border-bottom-color: var(--fill-color);\n",
              "    animation:\n",
              "      spin 1s steps(1) infinite;\n",
              "  }\n",
              "\n",
              "  @keyframes spin {\n",
              "    0% {\n",
              "      border-color: transparent;\n",
              "      border-bottom-color: var(--fill-color);\n",
              "      border-left-color: var(--fill-color);\n",
              "    }\n",
              "    20% {\n",
              "      border-color: transparent;\n",
              "      border-left-color: var(--fill-color);\n",
              "      border-top-color: var(--fill-color);\n",
              "    }\n",
              "    30% {\n",
              "      border-color: transparent;\n",
              "      border-left-color: var(--fill-color);\n",
              "      border-top-color: var(--fill-color);\n",
              "      border-right-color: var(--fill-color);\n",
              "    }\n",
              "    40% {\n",
              "      border-color: transparent;\n",
              "      border-right-color: var(--fill-color);\n",
              "      border-top-color: var(--fill-color);\n",
              "    }\n",
              "    60% {\n",
              "      border-color: transparent;\n",
              "      border-right-color: var(--fill-color);\n",
              "    }\n",
              "    80% {\n",
              "      border-color: transparent;\n",
              "      border-right-color: var(--fill-color);\n",
              "      border-bottom-color: var(--fill-color);\n",
              "    }\n",
              "    90% {\n",
              "      border-color: transparent;\n",
              "      border-bottom-color: var(--fill-color);\n",
              "    }\n",
              "  }\n",
              "</style>\n",
              "\n",
              "  <script>\n",
              "    async function quickchart(key) {\n",
              "      const quickchartButtonEl =\n",
              "        document.querySelector('#' + key + ' button');\n",
              "      quickchartButtonEl.disabled = true;  // To prevent multiple clicks.\n",
              "      quickchartButtonEl.classList.add('colab-df-spinner');\n",
              "      try {\n",
              "        const charts = await google.colab.kernel.invokeFunction(\n",
              "            'suggestCharts', [key], {});\n",
              "      } catch (error) {\n",
              "        console.error('Error during call to suggestCharts:', error);\n",
              "      }\n",
              "      quickchartButtonEl.classList.remove('colab-df-spinner');\n",
              "      quickchartButtonEl.classList.add('colab-df-quickchart-complete');\n",
              "    }\n",
              "    (() => {\n",
              "      let quickchartButtonEl =\n",
              "        document.querySelector('#df-5bfe5ad5-fb45-4b0e-b9fe-6d98bfed6f55 button');\n",
              "      quickchartButtonEl.style.display =\n",
              "        google.colab.kernel.accessAllowed ? 'block' : 'none';\n",
              "    })();\n",
              "  </script>\n",
              "</div>\n",
              "\n",
              "  <div id=\"id_672ac126-16ac-42b2-8ce7-e25bf6572ab4\">\n",
              "    <style>\n",
              "      .colab-df-generate {\n",
              "        background-color: #E8F0FE;\n",
              "        border: none;\n",
              "        border-radius: 50%;\n",
              "        cursor: pointer;\n",
              "        display: none;\n",
              "        fill: #1967D2;\n",
              "        height: 32px;\n",
              "        padding: 0 0 0 0;\n",
              "        width: 32px;\n",
              "      }\n",
              "\n",
              "      .colab-df-generate:hover {\n",
              "        background-color: #E2EBFA;\n",
              "        box-shadow: 0px 1px 2px rgba(60, 64, 67, 0.3), 0px 1px 3px 1px rgba(60, 64, 67, 0.15);\n",
              "        fill: #174EA6;\n",
              "      }\n",
              "\n",
              "      [theme=dark] .colab-df-generate {\n",
              "        background-color: #3B4455;\n",
              "        fill: #D2E3FC;\n",
              "      }\n",
              "\n",
              "      [theme=dark] .colab-df-generate:hover {\n",
              "        background-color: #434B5C;\n",
              "        box-shadow: 0px 1px 3px 1px rgba(0, 0, 0, 0.15);\n",
              "        filter: drop-shadow(0px 1px 2px rgba(0, 0, 0, 0.3));\n",
              "        fill: #FFFFFF;\n",
              "      }\n",
              "    </style>\n",
              "    <button class=\"colab-df-generate\" onclick=\"generateWithVariable('hotel_df')\"\n",
              "            title=\"Generate code using this dataframe.\"\n",
              "            style=\"display:none;\">\n",
              "\n",
              "  <svg xmlns=\"http://www.w3.org/2000/svg\" height=\"24px\"viewBox=\"0 0 24 24\"\n",
              "       width=\"24px\">\n",
              "    <path d=\"M7,19H8.4L18.45,9,17,7.55,7,17.6ZM5,21V16.75L18.45,3.32a2,2,0,0,1,2.83,0l1.4,1.43a1.91,1.91,0,0,1,.58,1.4,1.91,1.91,0,0,1-.58,1.4L9.25,21ZM18.45,9,17,7.55Zm-12,3A5.31,5.31,0,0,0,4.9,8.1,5.31,5.31,0,0,0,1,6.5,5.31,5.31,0,0,0,4.9,4.9,5.31,5.31,0,0,0,6.5,1,5.31,5.31,0,0,0,8.1,4.9,5.31,5.31,0,0,0,12,6.5,5.46,5.46,0,0,0,6.5,12Z\"/>\n",
              "  </svg>\n",
              "    </button>\n",
              "    <script>\n",
              "      (() => {\n",
              "      const buttonEl =\n",
              "        document.querySelector('#id_672ac126-16ac-42b2-8ce7-e25bf6572ab4 button.colab-df-generate');\n",
              "      buttonEl.style.display =\n",
              "        google.colab.kernel.accessAllowed ? 'block' : 'none';\n",
              "\n",
              "      buttonEl.onclick = () => {\n",
              "        google.colab.notebook.generateWithVariable('hotel_df');\n",
              "      }\n",
              "      })();\n",
              "    </script>\n",
              "  </div>\n",
              "\n",
              "    </div>\n",
              "  </div>\n"
            ],
            "text/plain": [
              "               hotel  is_canceled  lead_time  arrival_date_year  \\\n",
              "0       Resort Hotel            0        342               2015   \n",
              "1       Resort Hotel            0        737               2015   \n",
              "2       Resort Hotel            0          7               2015   \n",
              "3       Resort Hotel            0         13               2015   \n",
              "4       Resort Hotel            0         14               2015   \n",
              "...              ...          ...        ...                ...   \n",
              "119385    City Hotel            0         23               2017   \n",
              "119386    City Hotel            0        102               2017   \n",
              "119387    City Hotel            0         34               2017   \n",
              "119388    City Hotel            0        109               2017   \n",
              "119389    City Hotel            0        205               2017   \n",
              "\n",
              "       arrival_date_month  arrival_date_week_number  \\\n",
              "0                    July                        27   \n",
              "1                    July                        27   \n",
              "2                    July                        27   \n",
              "3                    July                        27   \n",
              "4                    July                        27   \n",
              "...                   ...                       ...   \n",
              "119385             August                        35   \n",
              "119386             August                        35   \n",
              "119387             August                        35   \n",
              "119388             August                        35   \n",
              "119389             August                        35   \n",
              "\n",
              "        arrival_date_day_of_month  stays_in_weekend_nights  \\\n",
              "0                               1                        0   \n",
              "1                               1                        0   \n",
              "2                               1                        0   \n",
              "3                               1                        0   \n",
              "4                               1                        0   \n",
              "...                           ...                      ...   \n",
              "119385                         30                        2   \n",
              "119386                         31                        2   \n",
              "119387                         31                        2   \n",
              "119388                         31                        2   \n",
              "119389                         29                        2   \n",
              "\n",
              "        stays_in_week_nights  adults  ...  deposit_type  agent company  \\\n",
              "0                          0       2  ...    No Deposit    NaN     NaN   \n",
              "1                          0       2  ...    No Deposit    NaN     NaN   \n",
              "2                          1       1  ...    No Deposit    NaN     NaN   \n",
              "3                          1       1  ...    No Deposit  304.0     NaN   \n",
              "4                          2       2  ...    No Deposit  240.0     NaN   \n",
              "...                      ...     ...  ...           ...    ...     ...   \n",
              "119385                     5       2  ...    No Deposit  394.0     NaN   \n",
              "119386                     5       3  ...    No Deposit    9.0     NaN   \n",
              "119387                     5       2  ...    No Deposit    9.0     NaN   \n",
              "119388                     5       2  ...    No Deposit   89.0     NaN   \n",
              "119389                     7       2  ...    No Deposit    9.0     NaN   \n",
              "\n",
              "       days_in_waiting_list customer_type     adr  \\\n",
              "0                         0     Transient    0.00   \n",
              "1                         0     Transient    0.00   \n",
              "2                         0     Transient   75.00   \n",
              "3                         0     Transient   75.00   \n",
              "4                         0     Transient   98.00   \n",
              "...                     ...           ...     ...   \n",
              "119385                    0     Transient   96.14   \n",
              "119386                    0     Transient  225.43   \n",
              "119387                    0     Transient  157.71   \n",
              "119388                    0     Transient  104.40   \n",
              "119389                    0     Transient  151.20   \n",
              "\n",
              "        required_car_parking_spaces  total_of_special_requests  \\\n",
              "0                                 0                          0   \n",
              "1                                 0                          0   \n",
              "2                                 0                          0   \n",
              "3                                 0                          0   \n",
              "4                                 0                          1   \n",
              "...                             ...                        ...   \n",
              "119385                            0                          0   \n",
              "119386                            0                          2   \n",
              "119387                            0                          4   \n",
              "119388                            0                          0   \n",
              "119389                            0                          2   \n",
              "\n",
              "        reservation_status reservation_status_date  \n",
              "0                Check-Out              2015-07-01  \n",
              "1                Check-Out              2015-07-01  \n",
              "2                Check-Out              2015-07-02  \n",
              "3                Check-Out              2015-07-02  \n",
              "4                Check-Out              2015-07-03  \n",
              "...                    ...                     ...  \n",
              "119385           Check-Out              2017-09-06  \n",
              "119386           Check-Out              2017-09-07  \n",
              "119387           Check-Out              2017-09-07  \n",
              "119388           Check-Out              2017-09-07  \n",
              "119389           Check-Out              2017-09-07  \n",
              "\n",
              "[119390 rows x 32 columns]"
            ]
          },
          "execution_count": 3,
          "metadata": {},
          "output_type": "execute_result"
        }
      ],
      "source": [
        "hotel_df = pd.read_csv(\"/content/drive/MyDrive/Project/Hotel Bookings.csv\")\n",
        "hotel_df"
      ]
    },
    {
      "cell_type": "markdown",
      "metadata": {
        "id": "GI_IAAIgva8G"
      },
      "source": [
        "# Dataset First View"
      ]
    },
    {
      "cell_type": "code",
      "execution_count": null,
      "metadata": {
        "colab": {
          "base_uri": "https://localhost:8080/",
          "height": 342
        },
        "id": "-E40XzJ3vVW9",
        "outputId": "2a5a93ec-7748-49bd-ae58-0e6f3e4ccfa5"
      },
      "outputs": [
        {
          "data": {
            "application/vnd.google.colaboratory.intrinsic+json": {
              "type": "dataframe",
              "variable_name": "hotel_df"
            },
            "text/html": [
              "\n",
              "  <div id=\"df-8c772ac7-e5e8-4506-b3d7-835268038f6a\" class=\"colab-df-container\">\n",
              "    <div>\n",
              "<style scoped>\n",
              "    .dataframe tbody tr th:only-of-type {\n",
              "        vertical-align: middle;\n",
              "    }\n",
              "\n",
              "    .dataframe tbody tr th {\n",
              "        vertical-align: top;\n",
              "    }\n",
              "\n",
              "    .dataframe thead th {\n",
              "        text-align: right;\n",
              "    }\n",
              "</style>\n",
              "<table border=\"1\" class=\"dataframe\">\n",
              "  <thead>\n",
              "    <tr style=\"text-align: right;\">\n",
              "      <th></th>\n",
              "      <th>hotel</th>\n",
              "      <th>is_canceled</th>\n",
              "      <th>lead_time</th>\n",
              "      <th>arrival_date_year</th>\n",
              "      <th>arrival_date_month</th>\n",
              "      <th>arrival_date_week_number</th>\n",
              "      <th>arrival_date_day_of_month</th>\n",
              "      <th>stays_in_weekend_nights</th>\n",
              "      <th>stays_in_week_nights</th>\n",
              "      <th>adults</th>\n",
              "      <th>...</th>\n",
              "      <th>deposit_type</th>\n",
              "      <th>agent</th>\n",
              "      <th>company</th>\n",
              "      <th>days_in_waiting_list</th>\n",
              "      <th>customer_type</th>\n",
              "      <th>adr</th>\n",
              "      <th>required_car_parking_spaces</th>\n",
              "      <th>total_of_special_requests</th>\n",
              "      <th>reservation_status</th>\n",
              "      <th>reservation_status_date</th>\n",
              "    </tr>\n",
              "  </thead>\n",
              "  <tbody>\n",
              "    <tr>\n",
              "      <th>0</th>\n",
              "      <td>Resort Hotel</td>\n",
              "      <td>0</td>\n",
              "      <td>342</td>\n",
              "      <td>2015</td>\n",
              "      <td>July</td>\n",
              "      <td>27</td>\n",
              "      <td>1</td>\n",
              "      <td>0</td>\n",
              "      <td>0</td>\n",
              "      <td>2</td>\n",
              "      <td>...</td>\n",
              "      <td>No Deposit</td>\n",
              "      <td>NaN</td>\n",
              "      <td>NaN</td>\n",
              "      <td>0</td>\n",
              "      <td>Transient</td>\n",
              "      <td>0.0</td>\n",
              "      <td>0</td>\n",
              "      <td>0</td>\n",
              "      <td>Check-Out</td>\n",
              "      <td>2015-07-01</td>\n",
              "    </tr>\n",
              "    <tr>\n",
              "      <th>1</th>\n",
              "      <td>Resort Hotel</td>\n",
              "      <td>0</td>\n",
              "      <td>737</td>\n",
              "      <td>2015</td>\n",
              "      <td>July</td>\n",
              "      <td>27</td>\n",
              "      <td>1</td>\n",
              "      <td>0</td>\n",
              "      <td>0</td>\n",
              "      <td>2</td>\n",
              "      <td>...</td>\n",
              "      <td>No Deposit</td>\n",
              "      <td>NaN</td>\n",
              "      <td>NaN</td>\n",
              "      <td>0</td>\n",
              "      <td>Transient</td>\n",
              "      <td>0.0</td>\n",
              "      <td>0</td>\n",
              "      <td>0</td>\n",
              "      <td>Check-Out</td>\n",
              "      <td>2015-07-01</td>\n",
              "    </tr>\n",
              "    <tr>\n",
              "      <th>2</th>\n",
              "      <td>Resort Hotel</td>\n",
              "      <td>0</td>\n",
              "      <td>7</td>\n",
              "      <td>2015</td>\n",
              "      <td>July</td>\n",
              "      <td>27</td>\n",
              "      <td>1</td>\n",
              "      <td>0</td>\n",
              "      <td>1</td>\n",
              "      <td>1</td>\n",
              "      <td>...</td>\n",
              "      <td>No Deposit</td>\n",
              "      <td>NaN</td>\n",
              "      <td>NaN</td>\n",
              "      <td>0</td>\n",
              "      <td>Transient</td>\n",
              "      <td>75.0</td>\n",
              "      <td>0</td>\n",
              "      <td>0</td>\n",
              "      <td>Check-Out</td>\n",
              "      <td>2015-07-02</td>\n",
              "    </tr>\n",
              "    <tr>\n",
              "      <th>3</th>\n",
              "      <td>Resort Hotel</td>\n",
              "      <td>0</td>\n",
              "      <td>13</td>\n",
              "      <td>2015</td>\n",
              "      <td>July</td>\n",
              "      <td>27</td>\n",
              "      <td>1</td>\n",
              "      <td>0</td>\n",
              "      <td>1</td>\n",
              "      <td>1</td>\n",
              "      <td>...</td>\n",
              "      <td>No Deposit</td>\n",
              "      <td>304.0</td>\n",
              "      <td>NaN</td>\n",
              "      <td>0</td>\n",
              "      <td>Transient</td>\n",
              "      <td>75.0</td>\n",
              "      <td>0</td>\n",
              "      <td>0</td>\n",
              "      <td>Check-Out</td>\n",
              "      <td>2015-07-02</td>\n",
              "    </tr>\n",
              "    <tr>\n",
              "      <th>4</th>\n",
              "      <td>Resort Hotel</td>\n",
              "      <td>0</td>\n",
              "      <td>14</td>\n",
              "      <td>2015</td>\n",
              "      <td>July</td>\n",
              "      <td>27</td>\n",
              "      <td>1</td>\n",
              "      <td>0</td>\n",
              "      <td>2</td>\n",
              "      <td>2</td>\n",
              "      <td>...</td>\n",
              "      <td>No Deposit</td>\n",
              "      <td>240.0</td>\n",
              "      <td>NaN</td>\n",
              "      <td>0</td>\n",
              "      <td>Transient</td>\n",
              "      <td>98.0</td>\n",
              "      <td>0</td>\n",
              "      <td>1</td>\n",
              "      <td>Check-Out</td>\n",
              "      <td>2015-07-03</td>\n",
              "    </tr>\n",
              "  </tbody>\n",
              "</table>\n",
              "<p>5 rows × 32 columns</p>\n",
              "</div>\n",
              "    <div class=\"colab-df-buttons\">\n",
              "\n",
              "  <div class=\"colab-df-container\">\n",
              "    <button class=\"colab-df-convert\" onclick=\"convertToInteractive('df-8c772ac7-e5e8-4506-b3d7-835268038f6a')\"\n",
              "            title=\"Convert this dataframe to an interactive table.\"\n",
              "            style=\"display:none;\">\n",
              "\n",
              "  <svg xmlns=\"http://www.w3.org/2000/svg\" height=\"24px\" viewBox=\"0 -960 960 960\">\n",
              "    <path d=\"M120-120v-720h720v720H120Zm60-500h600v-160H180v160Zm220 220h160v-160H400v160Zm0 220h160v-160H400v160ZM180-400h160v-160H180v160Zm440 0h160v-160H620v160ZM180-180h160v-160H180v160Zm440 0h160v-160H620v160Z\"/>\n",
              "  </svg>\n",
              "    </button>\n",
              "\n",
              "  <style>\n",
              "    .colab-df-container {\n",
              "      display:flex;\n",
              "      gap: 12px;\n",
              "    }\n",
              "\n",
              "    .colab-df-convert {\n",
              "      background-color: #E8F0FE;\n",
              "      border: none;\n",
              "      border-radius: 50%;\n",
              "      cursor: pointer;\n",
              "      display: none;\n",
              "      fill: #1967D2;\n",
              "      height: 32px;\n",
              "      padding: 0 0 0 0;\n",
              "      width: 32px;\n",
              "    }\n",
              "\n",
              "    .colab-df-convert:hover {\n",
              "      background-color: #E2EBFA;\n",
              "      box-shadow: 0px 1px 2px rgba(60, 64, 67, 0.3), 0px 1px 3px 1px rgba(60, 64, 67, 0.15);\n",
              "      fill: #174EA6;\n",
              "    }\n",
              "\n",
              "    .colab-df-buttons div {\n",
              "      margin-bottom: 4px;\n",
              "    }\n",
              "\n",
              "    [theme=dark] .colab-df-convert {\n",
              "      background-color: #3B4455;\n",
              "      fill: #D2E3FC;\n",
              "    }\n",
              "\n",
              "    [theme=dark] .colab-df-convert:hover {\n",
              "      background-color: #434B5C;\n",
              "      box-shadow: 0px 1px 3px 1px rgba(0, 0, 0, 0.15);\n",
              "      filter: drop-shadow(0px 1px 2px rgba(0, 0, 0, 0.3));\n",
              "      fill: #FFFFFF;\n",
              "    }\n",
              "  </style>\n",
              "\n",
              "    <script>\n",
              "      const buttonEl =\n",
              "        document.querySelector('#df-8c772ac7-e5e8-4506-b3d7-835268038f6a button.colab-df-convert');\n",
              "      buttonEl.style.display =\n",
              "        google.colab.kernel.accessAllowed ? 'block' : 'none';\n",
              "\n",
              "      async function convertToInteractive(key) {\n",
              "        const element = document.querySelector('#df-8c772ac7-e5e8-4506-b3d7-835268038f6a');\n",
              "        const dataTable =\n",
              "          await google.colab.kernel.invokeFunction('convertToInteractive',\n",
              "                                                    [key], {});\n",
              "        if (!dataTable) return;\n",
              "\n",
              "        const docLinkHtml = 'Like what you see? Visit the ' +\n",
              "          '<a target=\"_blank\" href=https://colab.research.google.com/notebooks/data_table.ipynb>data table notebook</a>'\n",
              "          + ' to learn more about interactive tables.';\n",
              "        element.innerHTML = '';\n",
              "        dataTable['output_type'] = 'display_data';\n",
              "        await google.colab.output.renderOutput(dataTable, element);\n",
              "        const docLink = document.createElement('div');\n",
              "        docLink.innerHTML = docLinkHtml;\n",
              "        element.appendChild(docLink);\n",
              "      }\n",
              "    </script>\n",
              "  </div>\n",
              "\n",
              "\n",
              "<div id=\"df-871c8657-ab9c-4b00-bd8a-cdfd6df20cec\">\n",
              "  <button class=\"colab-df-quickchart\" onclick=\"quickchart('df-871c8657-ab9c-4b00-bd8a-cdfd6df20cec')\"\n",
              "            title=\"Suggest charts\"\n",
              "            style=\"display:none;\">\n",
              "\n",
              "<svg xmlns=\"http://www.w3.org/2000/svg\" height=\"24px\"viewBox=\"0 0 24 24\"\n",
              "     width=\"24px\">\n",
              "    <g>\n",
              "        <path d=\"M19 3H5c-1.1 0-2 .9-2 2v14c0 1.1.9 2 2 2h14c1.1 0 2-.9 2-2V5c0-1.1-.9-2-2-2zM9 17H7v-7h2v7zm4 0h-2V7h2v10zm4 0h-2v-4h2v4z\"/>\n",
              "    </g>\n",
              "</svg>\n",
              "  </button>\n",
              "\n",
              "<style>\n",
              "  .colab-df-quickchart {\n",
              "      --bg-color: #E8F0FE;\n",
              "      --fill-color: #1967D2;\n",
              "      --hover-bg-color: #E2EBFA;\n",
              "      --hover-fill-color: #174EA6;\n",
              "      --disabled-fill-color: #AAA;\n",
              "      --disabled-bg-color: #DDD;\n",
              "  }\n",
              "\n",
              "  [theme=dark] .colab-df-quickchart {\n",
              "      --bg-color: #3B4455;\n",
              "      --fill-color: #D2E3FC;\n",
              "      --hover-bg-color: #434B5C;\n",
              "      --hover-fill-color: #FFFFFF;\n",
              "      --disabled-bg-color: #3B4455;\n",
              "      --disabled-fill-color: #666;\n",
              "  }\n",
              "\n",
              "  .colab-df-quickchart {\n",
              "    background-color: var(--bg-color);\n",
              "    border: none;\n",
              "    border-radius: 50%;\n",
              "    cursor: pointer;\n",
              "    display: none;\n",
              "    fill: var(--fill-color);\n",
              "    height: 32px;\n",
              "    padding: 0;\n",
              "    width: 32px;\n",
              "  }\n",
              "\n",
              "  .colab-df-quickchart:hover {\n",
              "    background-color: var(--hover-bg-color);\n",
              "    box-shadow: 0 1px 2px rgba(60, 64, 67, 0.3), 0 1px 3px 1px rgba(60, 64, 67, 0.15);\n",
              "    fill: var(--button-hover-fill-color);\n",
              "  }\n",
              "\n",
              "  .colab-df-quickchart-complete:disabled,\n",
              "  .colab-df-quickchart-complete:disabled:hover {\n",
              "    background-color: var(--disabled-bg-color);\n",
              "    fill: var(--disabled-fill-color);\n",
              "    box-shadow: none;\n",
              "  }\n",
              "\n",
              "  .colab-df-spinner {\n",
              "    border: 2px solid var(--fill-color);\n",
              "    border-color: transparent;\n",
              "    border-bottom-color: var(--fill-color);\n",
              "    animation:\n",
              "      spin 1s steps(1) infinite;\n",
              "  }\n",
              "\n",
              "  @keyframes spin {\n",
              "    0% {\n",
              "      border-color: transparent;\n",
              "      border-bottom-color: var(--fill-color);\n",
              "      border-left-color: var(--fill-color);\n",
              "    }\n",
              "    20% {\n",
              "      border-color: transparent;\n",
              "      border-left-color: var(--fill-color);\n",
              "      border-top-color: var(--fill-color);\n",
              "    }\n",
              "    30% {\n",
              "      border-color: transparent;\n",
              "      border-left-color: var(--fill-color);\n",
              "      border-top-color: var(--fill-color);\n",
              "      border-right-color: var(--fill-color);\n",
              "    }\n",
              "    40% {\n",
              "      border-color: transparent;\n",
              "      border-right-color: var(--fill-color);\n",
              "      border-top-color: var(--fill-color);\n",
              "    }\n",
              "    60% {\n",
              "      border-color: transparent;\n",
              "      border-right-color: var(--fill-color);\n",
              "    }\n",
              "    80% {\n",
              "      border-color: transparent;\n",
              "      border-right-color: var(--fill-color);\n",
              "      border-bottom-color: var(--fill-color);\n",
              "    }\n",
              "    90% {\n",
              "      border-color: transparent;\n",
              "      border-bottom-color: var(--fill-color);\n",
              "    }\n",
              "  }\n",
              "</style>\n",
              "\n",
              "  <script>\n",
              "    async function quickchart(key) {\n",
              "      const quickchartButtonEl =\n",
              "        document.querySelector('#' + key + ' button');\n",
              "      quickchartButtonEl.disabled = true;  // To prevent multiple clicks.\n",
              "      quickchartButtonEl.classList.add('colab-df-spinner');\n",
              "      try {\n",
              "        const charts = await google.colab.kernel.invokeFunction(\n",
              "            'suggestCharts', [key], {});\n",
              "      } catch (error) {\n",
              "        console.error('Error during call to suggestCharts:', error);\n",
              "      }\n",
              "      quickchartButtonEl.classList.remove('colab-df-spinner');\n",
              "      quickchartButtonEl.classList.add('colab-df-quickchart-complete');\n",
              "    }\n",
              "    (() => {\n",
              "      let quickchartButtonEl =\n",
              "        document.querySelector('#df-871c8657-ab9c-4b00-bd8a-cdfd6df20cec button');\n",
              "      quickchartButtonEl.style.display =\n",
              "        google.colab.kernel.accessAllowed ? 'block' : 'none';\n",
              "    })();\n",
              "  </script>\n",
              "</div>\n",
              "\n",
              "    </div>\n",
              "  </div>\n"
            ],
            "text/plain": [
              "          hotel  is_canceled  lead_time  arrival_date_year arrival_date_month  \\\n",
              "0  Resort Hotel            0        342               2015               July   \n",
              "1  Resort Hotel            0        737               2015               July   \n",
              "2  Resort Hotel            0          7               2015               July   \n",
              "3  Resort Hotel            0         13               2015               July   \n",
              "4  Resort Hotel            0         14               2015               July   \n",
              "\n",
              "   arrival_date_week_number  arrival_date_day_of_month  \\\n",
              "0                        27                          1   \n",
              "1                        27                          1   \n",
              "2                        27                          1   \n",
              "3                        27                          1   \n",
              "4                        27                          1   \n",
              "\n",
              "   stays_in_weekend_nights  stays_in_week_nights  adults  ...  deposit_type  \\\n",
              "0                        0                     0       2  ...    No Deposit   \n",
              "1                        0                     0       2  ...    No Deposit   \n",
              "2                        0                     1       1  ...    No Deposit   \n",
              "3                        0                     1       1  ...    No Deposit   \n",
              "4                        0                     2       2  ...    No Deposit   \n",
              "\n",
              "   agent company days_in_waiting_list customer_type   adr  \\\n",
              "0    NaN     NaN                    0     Transient   0.0   \n",
              "1    NaN     NaN                    0     Transient   0.0   \n",
              "2    NaN     NaN                    0     Transient  75.0   \n",
              "3  304.0     NaN                    0     Transient  75.0   \n",
              "4  240.0     NaN                    0     Transient  98.0   \n",
              "\n",
              "   required_car_parking_spaces  total_of_special_requests  reservation_status  \\\n",
              "0                            0                          0           Check-Out   \n",
              "1                            0                          0           Check-Out   \n",
              "2                            0                          0           Check-Out   \n",
              "3                            0                          0           Check-Out   \n",
              "4                            0                          1           Check-Out   \n",
              "\n",
              "  reservation_status_date  \n",
              "0              2015-07-01  \n",
              "1              2015-07-01  \n",
              "2              2015-07-02  \n",
              "3              2015-07-02  \n",
              "4              2015-07-03  \n",
              "\n",
              "[5 rows x 32 columns]"
            ]
          },
          "execution_count": 4,
          "metadata": {},
          "output_type": "execute_result"
        }
      ],
      "source": [
        "# Dataset First Look\n",
        "hotel_df.head()"
      ]
    },
    {
      "cell_type": "markdown",
      "metadata": {
        "id": "1ScQK5Lex5-k"
      },
      "source": [
        "# Dataset Rows & Columns count"
      ]
    },
    {
      "cell_type": "code",
      "execution_count": null,
      "metadata": {
        "colab": {
          "base_uri": "https://localhost:8080/"
        },
        "id": "-y-TlrNyyJgz",
        "outputId": "806f224c-4e15-4bd9-9c9a-94d00e3f36db"
      },
      "outputs": [
        {
          "data": {
            "text/plain": [
              "(119390, 32)"
            ]
          },
          "execution_count": 5,
          "metadata": {},
          "output_type": "execute_result"
        }
      ],
      "source": [
        "# Dataset Rows & Columns count\n",
        "hotel_df.shape"
      ]
    },
    {
      "cell_type": "markdown",
      "metadata": {
        "id": "pRVAqrA5yO2i"
      },
      "source": [
        "OBSERVATION"
      ]
    },
    {
      "cell_type": "markdown",
      "metadata": {
        "id": "aZeTSqewydoj"
      },
      "source": [
        "\n",
        "\n",
        "*   There are 119390 rows and 32 columns which means there are 119390 observations and 31 variables.\n",
        "\n"
      ]
    },
    {
      "cell_type": "markdown",
      "metadata": {
        "id": "Sq--ioIPBj8f"
      },
      "source": [
        "# Dataset Information"
      ]
    },
    {
      "cell_type": "code",
      "execution_count": null,
      "metadata": {
        "colab": {
          "base_uri": "https://localhost:8080/"
        },
        "id": "r_YdfZLzym9E",
        "outputId": "d1f81f5a-5018-4640-fada-aa810971e24d"
      },
      "outputs": [
        {
          "name": "stdout",
          "output_type": "stream",
          "text": [
            "<class 'pandas.core.frame.DataFrame'>\n",
            "RangeIndex: 119390 entries, 0 to 119389\n",
            "Data columns (total 32 columns):\n",
            " #   Column                          Non-Null Count   Dtype  \n",
            "---  ------                          --------------   -----  \n",
            " 0   hotel                           119390 non-null  object \n",
            " 1   is_canceled                     119390 non-null  int64  \n",
            " 2   lead_time                       119390 non-null  int64  \n",
            " 3   arrival_date_year               119390 non-null  int64  \n",
            " 4   arrival_date_month              119390 non-null  object \n",
            " 5   arrival_date_week_number        119390 non-null  int64  \n",
            " 6   arrival_date_day_of_month       119390 non-null  int64  \n",
            " 7   stays_in_weekend_nights         119390 non-null  int64  \n",
            " 8   stays_in_week_nights            119390 non-null  int64  \n",
            " 9   adults                          119390 non-null  int64  \n",
            " 10  children                        119386 non-null  float64\n",
            " 11  babies                          119390 non-null  int64  \n",
            " 12  meal                            119390 non-null  object \n",
            " 13  country                         118902 non-null  object \n",
            " 14  market_segment                  119390 non-null  object \n",
            " 15  distribution_channel            119390 non-null  object \n",
            " 16  is_repeated_guest               119390 non-null  int64  \n",
            " 17  previous_cancellations          119390 non-null  int64  \n",
            " 18  previous_bookings_not_canceled  119390 non-null  int64  \n",
            " 19  reserved_room_type              119390 non-null  object \n",
            " 20  assigned_room_type              119390 non-null  object \n",
            " 21  booking_changes                 119390 non-null  int64  \n",
            " 22  deposit_type                    119390 non-null  object \n",
            " 23  agent                           103050 non-null  float64\n",
            " 24  company                         6797 non-null    float64\n",
            " 25  days_in_waiting_list            119390 non-null  int64  \n",
            " 26  customer_type                   119390 non-null  object \n",
            " 27  adr                             119390 non-null  float64\n",
            " 28  required_car_parking_spaces     119390 non-null  int64  \n",
            " 29  total_of_special_requests       119390 non-null  int64  \n",
            " 30  reservation_status              119390 non-null  object \n",
            " 31  reservation_status_date         119390 non-null  object \n",
            "dtypes: float64(4), int64(16), object(12)\n",
            "memory usage: 29.1+ MB\n"
          ]
        }
      ],
      "source": [
        "# Dataset Info\n",
        "hotel_df.info()"
      ]
    },
    {
      "cell_type": "code",
      "execution_count": null,
      "metadata": {
        "id": "nNYrNbGEBy-6"
      },
      "outputs": [],
      "source": [
        "# Creating a copy of dataframe\n",
        "df = hotel_df.copy()"
      ]
    },
    {
      "cell_type": "markdown",
      "metadata": {
        "id": "Ec25IPudCAL0"
      },
      "source": [
        "# Duplicate Values"
      ]
    },
    {
      "cell_type": "code",
      "execution_count": null,
      "metadata": {
        "colab": {
          "base_uri": "https://localhost:8080/"
        },
        "id": "ywTtip3qCF8u",
        "outputId": "ba29b06c-94fc-457a-c1fb-0c03e3b2b592"
      },
      "outputs": [
        {
          "data": {
            "text/plain": [
              "(31994, 32)"
            ]
          },
          "execution_count": 8,
          "metadata": {},
          "output_type": "execute_result"
        }
      ],
      "source": [
        "# Dataset Duplicate Value Count\n",
        "df[hotel_df.duplicated()].shape"
      ]
    },
    {
      "cell_type": "markdown",
      "metadata": {
        "id": "txbgD4qxEfjs"
      },
      "source": [
        "OBSERVATION"
      ]
    },
    {
      "cell_type": "markdown",
      "metadata": {
        "id": "rKA8skYvElMD"
      },
      "source": [
        "The number of duplicate rows are 31994 out of 119390."
      ]
    },
    {
      "cell_type": "code",
      "execution_count": null,
      "metadata": {
        "id": "R81GH4JtEtkw"
      },
      "outputs": [],
      "source": [
        "df.drop_duplicates(inplace = True)"
      ]
    },
    {
      "cell_type": "code",
      "execution_count": null,
      "metadata": {
        "colab": {
          "base_uri": "https://localhost:8080/"
        },
        "id": "sYzMfZHqExp7",
        "outputId": "44e70601-60d8-4127-adb0-dda41ee97ca9"
      },
      "outputs": [
        {
          "data": {
            "text/plain": [
              "(87396, 32)"
            ]
          },
          "execution_count": 10,
          "metadata": {},
          "output_type": "execute_result"
        }
      ],
      "source": [
        "df.shape"
      ]
    },
    {
      "cell_type": "markdown",
      "metadata": {
        "id": "REZr-twXEqyU"
      },
      "source": [
        "OBSERVATION"
      ]
    },
    {
      "cell_type": "markdown",
      "metadata": {
        "id": "w8ULIVk8E2S7"
      },
      "source": [
        "\n",
        "\n",
        "*   After removing 31994 duplicate rows, we have 87396 rows and 32 columns in the dataset.\n",
        "\n"
      ]
    },
    {
      "cell_type": "markdown",
      "metadata": {
        "id": "Vm210nQZFCK1"
      },
      "source": [
        "# Missing Values/Null Values"
      ]
    },
    {
      "cell_type": "code",
      "execution_count": null,
      "metadata": {
        "colab": {
          "base_uri": "https://localhost:8080/"
        },
        "id": "wNGygayGFE0f",
        "outputId": "74424732-962f-4764-917e-501fcb593820"
      },
      "outputs": [
        {
          "data": {
            "text/plain": [
              "company               82137\n",
              "agent                 12193\n",
              "country                 452\n",
              "children                  4\n",
              "reserved_room_type        0\n",
              "assigned_room_type        0\n",
              "dtype: int64"
            ]
          },
          "execution_count": 11,
          "metadata": {},
          "output_type": "execute_result"
        }
      ],
      "source": [
        "# Missing Values/Null Values Count\n",
        "df.isnull().sum().sort_values(ascending = False)[:6]"
      ]
    },
    {
      "cell_type": "code",
      "execution_count": null,
      "metadata": {
        "colab": {
          "base_uri": "https://localhost:8080/"
        },
        "id": "_WBtF3VTFKp6",
        "outputId": "f950cc5a-a855-4329-c0c8-cea620285a36"
      },
      "outputs": [
        {
          "data": {
            "text/plain": [
              "array([ nan, 304., 240., 303.,  15., 241.,   8., 250., 115.,   5., 175.,\n",
              "       134., 156., 243., 242.,   3., 105.,  40., 147., 306., 184.,  96.,\n",
              "         2., 127.,  95., 146.,   9., 177.,   6., 143., 244., 149., 167.,\n",
              "       300., 171., 305.,  67., 196., 152., 142., 261., 104.,  36.,  26.,\n",
              "        29., 258., 110.,  71., 181.,  88., 251., 275.,  69., 248., 208.,\n",
              "       256., 314., 126., 281., 273., 253., 185., 330., 334., 328., 326.,\n",
              "       321., 324., 313.,  38., 155.,  68., 335., 308., 332.,  94., 348.,\n",
              "       310., 339., 375.,  66., 327., 387., 298.,  91., 245., 385., 257.,\n",
              "       393., 168., 405., 249., 315.,  75., 128., 307.,  11., 436.,   1.,\n",
              "       201., 183., 223., 368., 336., 291., 464., 411., 481.,  10., 154.,\n",
              "       468., 410., 390., 440., 495., 492., 493., 434.,  57., 531., 420.,\n",
              "       483., 526., 472., 429.,  16., 446.,  34.,  78., 139., 252., 270.,\n",
              "        47., 114., 301., 193., 182., 135., 350., 195., 352., 355., 159.,\n",
              "       363., 384., 360., 331., 367.,  64., 406., 163., 414., 333., 427.,\n",
              "       431., 430., 426., 438., 433., 418., 441., 282., 432.,  72., 450.,\n",
              "       180., 454., 455.,  59., 451., 254., 358., 469., 165., 467., 510.,\n",
              "       337., 476., 502., 527., 479., 508., 535., 302., 497., 187.,  13.,\n",
              "         7.,  27.,  14.,  22.,  17.,  28.,  42.,  20.,  19.,  45.,  37.,\n",
              "        61.,  39.,  21.,  24.,  41.,  50.,  30.,  54.,  52.,  12.,  44.,\n",
              "        31.,  83.,  32.,  63.,  60.,  55.,  56.,  89.,  87., 118.,  86.,\n",
              "        85., 210., 214., 129., 179., 138., 174., 170., 153.,  93., 151.,\n",
              "       119.,  35., 173.,  58.,  53., 133.,  79., 235., 192., 191., 236.,\n",
              "       162., 215., 157., 287., 132., 234.,  98.,  77., 103., 107., 262.,\n",
              "       220., 121., 205., 378.,  23., 296., 290., 229.,  33., 286., 276.,\n",
              "       425., 484., 323., 403., 219., 394., 509., 111., 423.,   4.,  70.,\n",
              "        82.,  81.,  74.,  92.,  99.,  90., 112., 117., 106., 148., 158.,\n",
              "       144., 211., 213., 216., 232., 150., 267., 227., 247., 278., 280.,\n",
              "       285., 289., 269., 295., 265., 288., 122., 294., 325., 341., 344.,\n",
              "       346., 359., 283., 364., 370., 371.,  25., 141., 391., 397., 416.,\n",
              "       404., 299., 197.,  73., 354., 444., 408., 461., 388., 453., 459.,\n",
              "       474., 475., 480., 449.])"
            ]
          },
          "execution_count": 12,
          "metadata": {},
          "output_type": "execute_result"
        }
      ],
      "source": [
        "df['agent'].unique()"
      ]
    },
    {
      "cell_type": "code",
      "execution_count": null,
      "metadata": {
        "colab": {
          "base_uri": "https://localhost:8080/"
        },
        "id": "nNpXzwPzFOKp",
        "outputId": "84c32f6d-3abf-4024-c4bf-c5e51f753b5f"
      },
      "outputs": [
        {
          "data": {
            "text/plain": [
              "array([ nan, 110., 113., 270., 178., 240., 154., 144., 307., 268.,  59.,\n",
              "       204., 312., 318.,  94., 174., 274., 195., 223., 317., 281., 118.,\n",
              "        53., 286.,  12.,  47., 324., 342., 373., 371., 383.,  86.,  82.,\n",
              "       218.,  88.,  31., 397., 392., 405., 331., 367.,  20.,  83., 416.,\n",
              "        51., 395., 102.,  34.,  84., 360., 394., 457., 382., 461., 478.,\n",
              "       386., 112., 486., 421.,   9., 308., 135., 224., 504., 269., 356.,\n",
              "       498., 390., 513., 203., 263., 477., 521., 169., 515., 445., 337.,\n",
              "       251., 428., 292., 388., 130., 250., 355., 254., 543., 531., 528.,\n",
              "        62., 120.,  42.,  81., 116., 530., 103.,  39.,  16.,  92.,  61.,\n",
              "       501., 165., 291., 290.,  43., 325., 192., 108., 200., 465., 287.,\n",
              "       297., 490., 482., 207., 282., 437., 225., 329., 272.,  28.,  77.,\n",
              "       338.,  72., 246., 319., 146., 159., 380., 323., 511., 407., 278.,\n",
              "        80., 403., 399.,  14., 137., 343., 346., 347., 349., 289., 351.,\n",
              "       353.,  54.,  99., 358., 361., 362., 366., 372., 365., 277., 109.,\n",
              "       377., 379.,  22., 378., 330., 364., 401., 232., 255., 384., 167.,\n",
              "       212., 514., 391., 400., 376., 402., 396., 302., 398.,   6., 370.,\n",
              "       369., 409., 168., 104., 408., 413., 148.,  10., 333., 419., 415.,\n",
              "       424., 425., 423., 422., 435., 439., 442., 448., 443., 454., 444.,\n",
              "        52., 459., 458., 456., 460., 447., 470., 466., 484., 184., 485.,\n",
              "        32., 487., 491., 494., 193., 516., 496., 499.,  29.,  78., 520.,\n",
              "       507., 506., 512., 126.,  64., 242., 518., 523., 539., 534., 436.,\n",
              "       525., 541.,  40., 455., 410.,  45.,  38.,  49.,  48.,  67.,  68.,\n",
              "        65.,  91.,  37.,   8., 179., 209., 219., 221., 227., 153., 186.,\n",
              "       253., 202., 216., 275., 233., 280., 309., 321.,  93., 316.,  85.,\n",
              "       107., 350., 279., 334., 348., 150.,  73., 385., 418., 197., 450.,\n",
              "       452., 115.,  46.,  76.,  96., 100., 105., 101., 122.,  11., 139.,\n",
              "       142., 127., 143., 140., 149., 163., 160., 180., 238., 183., 222.,\n",
              "       185., 217., 215., 213., 237., 230., 234.,  35., 245., 158., 258.,\n",
              "       259., 260., 411., 257., 271.,  18., 106., 210., 273.,  71., 284.,\n",
              "       301., 305., 293., 264., 311., 304., 313., 288., 320., 314., 332.,\n",
              "       341., 352., 243., 368., 393., 132., 220., 412., 420., 426., 417.,\n",
              "       429., 433., 446., 357., 479., 483., 489., 229., 481., 497., 451.,\n",
              "       492.])"
            ]
          },
          "execution_count": 13,
          "metadata": {},
          "output_type": "execute_result"
        }
      ],
      "source": [
        "df['company'].unique()"
      ]
    },
    {
      "cell_type": "markdown",
      "metadata": {
        "id": "8g7o7x_QF-Vy"
      },
      "source": [
        "OBSERVATION"
      ]
    },
    {
      "cell_type": "markdown",
      "metadata": {
        "id": "9wM7g-ieF_NJ"
      },
      "source": [
        "*   Since, company and agent columns have company number and agent numbers as\n",
        "data.\n",
        "*   There may be some cases when customer didnt booked hotel via any agent or via any company.\n",
        "*    So in that case values can be null under these columns.\n",
        "*   We will replace null values by 0 in these columns"
      ]
    },
    {
      "cell_type": "code",
      "execution_count": null,
      "metadata": {
        "id": "46eiqePpF5Mh"
      },
      "outputs": [],
      "source": [
        "df[['company','agent']] = df[['company','agent']].fillna(0)"
      ]
    },
    {
      "cell_type": "code",
      "execution_count": null,
      "metadata": {
        "colab": {
          "base_uri": "https://localhost:8080/"
        },
        "id": "QIMlfiKlF61y",
        "outputId": "f48efb93-8a9a-4340-e84b-f02c02f69e40"
      },
      "outputs": [
        {
          "data": {
            "text/plain": [
              "array([ 0.,  1.,  2., 10.,  3., nan])"
            ]
          },
          "execution_count": 15,
          "metadata": {},
          "output_type": "execute_result"
        }
      ],
      "source": [
        "df['children'].unique()"
      ]
    },
    {
      "cell_type": "markdown",
      "metadata": {
        "id": "WK7xN0XSFRTy"
      },
      "source": [
        "OBSERVATION"
      ]
    },
    {
      "cell_type": "markdown",
      "metadata": {
        "id": "rVGUqNcYGNfe"
      },
      "source": [
        "*  This column 'children' has 0 as value which means 0 children were present in group of customers who made that transaction.\n",
        "*   So, 'nan' values are the missing values due to error of recording data."
      ]
    },
    {
      "cell_type": "code",
      "execution_count": null,
      "metadata": {
        "id": "ELPQksoYGSaB"
      },
      "outputs": [],
      "source": [
        "df['children'].fillna(df['children'].mean(), inplace = True)"
      ]
    },
    {
      "cell_type": "code",
      "execution_count": null,
      "metadata": {
        "colab": {
          "base_uri": "https://localhost:8080/"
        },
        "id": "aNw4jBRpGXs6",
        "outputId": "125f55cd-8350-45ad-a977-2f6defc7f521"
      },
      "outputs": [
        {
          "data": {
            "text/plain": [
              "array(['PRT', 'GBR', 'USA', 'ESP', 'IRL', 'FRA', nan, 'ROU', 'NOR', 'OMN',\n",
              "       'ARG', 'POL', 'DEU', 'BEL', 'CHE', 'CN', 'GRC', 'ITA', 'NLD',\n",
              "       'DNK', 'RUS', 'SWE', 'AUS', 'EST', 'CZE', 'BRA', 'FIN', 'MOZ',\n",
              "       'BWA', 'LUX', 'SVN', 'ALB', 'IND', 'CHN', 'MEX', 'MAR', 'UKR',\n",
              "       'SMR', 'LVA', 'PRI', 'SRB', 'CHL', 'AUT', 'BLR', 'LTU', 'TUR',\n",
              "       'ZAF', 'AGO', 'ISR', 'CYM', 'ZMB', 'CPV', 'ZWE', 'DZA', 'KOR',\n",
              "       'CRI', 'HUN', 'ARE', 'TUN', 'JAM', 'HRV', 'HKG', 'IRN', 'GEO',\n",
              "       'AND', 'GIB', 'URY', 'JEY', 'CAF', 'CYP', 'COL', 'GGY', 'KWT',\n",
              "       'NGA', 'MDV', 'VEN', 'SVK', 'FJI', 'KAZ', 'PAK', 'IDN', 'LBN',\n",
              "       'PHL', 'SEN', 'SYC', 'AZE', 'BHR', 'NZL', 'THA', 'DOM', 'MKD',\n",
              "       'MYS', 'ARM', 'JPN', 'LKA', 'CUB', 'CMR', 'BIH', 'MUS', 'COM',\n",
              "       'SUR', 'UGA', 'BGR', 'CIV', 'JOR', 'SYR', 'SGP', 'BDI', 'SAU',\n",
              "       'VNM', 'PLW', 'QAT', 'EGY', 'PER', 'MLT', 'MWI', 'ECU', 'MDG',\n",
              "       'ISL', 'UZB', 'NPL', 'BHS', 'MAC', 'TGO', 'TWN', 'DJI', 'STP',\n",
              "       'KNA', 'ETH', 'IRQ', 'HND', 'RWA', 'KHM', 'MCO', 'BGD', 'IMN',\n",
              "       'TJK', 'NIC', 'BEN', 'VGB', 'TZA', 'GAB', 'GHA', 'TMP', 'GLP',\n",
              "       'KEN', 'LIE', 'GNB', 'MNE', 'UMI', 'MYT', 'FRO', 'MMR', 'PAN',\n",
              "       'BFA', 'LBY', 'MLI', 'NAM', 'BOL', 'PRY', 'BRB', 'ABW', 'AIA',\n",
              "       'SLV', 'DMA', 'PYF', 'GUY', 'LCA', 'ATA', 'GTM', 'ASM', 'MRT',\n",
              "       'NCL', 'KIR', 'SDN', 'ATF', 'SLE', 'LAO'], dtype=object)"
            ]
          },
          "execution_count": 17,
          "metadata": {},
          "output_type": "execute_result"
        }
      ],
      "source": [
        "df['country'].unique()"
      ]
    },
    {
      "cell_type": "markdown",
      "metadata": {
        "id": "D1j_xXjLGboK"
      },
      "source": [
        "OBSERVATION"
      ]
    },
    {
      "cell_type": "markdown",
      "metadata": {
        "id": "ND6vYdEwGevQ"
      },
      "source": [
        "*   'country' column represents the country of origin of customer.\n",
        "*   Since, this column has datatype of string. We will replace the missing value with the mode of 'country' column."
      ]
    },
    {
      "cell_type": "code",
      "execution_count": null,
      "metadata": {
        "id": "-EcZGEU5GpVZ"
      },
      "outputs": [],
      "source": [
        "df['country'].fillna('others', inplace = True)"
      ]
    },
    {
      "cell_type": "code",
      "execution_count": null,
      "metadata": {
        "colab": {
          "base_uri": "https://localhost:8080/"
        },
        "id": "F0nIhziKoqyn",
        "outputId": "876c0ed5-40b5-4067-829c-ef91287fcc19"
      },
      "outputs": [
        {
          "data": {
            "text/plain": [
              "hotel                          0\n",
              "is_canceled                    0\n",
              "reservation_status             0\n",
              "total_of_special_requests      0\n",
              "required_car_parking_spaces    0\n",
              "adr                            0\n",
              "dtype: int64"
            ]
          },
          "execution_count": 19,
          "metadata": {},
          "output_type": "execute_result"
        }
      ],
      "source": [
        "df.isnull().sum().sort_values(ascending = False)[:6]"
      ]
    },
    {
      "cell_type": "code",
      "execution_count": null,
      "metadata": {
        "colab": {
          "base_uri": "https://localhost:8080/",
          "height": 423
        },
        "id": "jjWoD-zwos4F",
        "outputId": "c0f81ee3-2ee5-4116-c271-689b227d5416"
      },
      "outputs": [
        {
          "data": {
            "application/vnd.google.colaboratory.intrinsic+json": {
              "summary": "{\n  \"name\": \"df[(df[\\\"adults\\\"] == 0) & (df['children'] == 0) & (df['babies'] == 0)][[\\\"adults\\\",\\\"children\\\",\\\"babies\\\",\\\"is_canceled\\\"]]\",\n  \"rows\": 166,\n  \"fields\": [\n    {\n      \"column\": \"adults\",\n      \"properties\": {\n        \"dtype\": \"number\",\n        \"std\": 0,\n        \"min\": 0,\n        \"max\": 0,\n        \"samples\": [\n          0\n        ],\n        \"num_unique_values\": 1,\n        \"semantic_type\": \"\",\n        \"description\": \"\"\n      }\n    },\n    {\n      \"column\": \"children\",\n      \"properties\": {\n        \"dtype\": \"number\",\n        \"std\": 0.0,\n        \"min\": 0.0,\n        \"max\": 0.0,\n        \"samples\": [\n          0.0\n        ],\n        \"num_unique_values\": 1,\n        \"semantic_type\": \"\",\n        \"description\": \"\"\n      }\n    },\n    {\n      \"column\": \"babies\",\n      \"properties\": {\n        \"dtype\": \"number\",\n        \"std\": 0,\n        \"min\": 0,\n        \"max\": 0,\n        \"samples\": [\n          0\n        ],\n        \"num_unique_values\": 1,\n        \"semantic_type\": \"\",\n        \"description\": \"\"\n      }\n    },\n    {\n      \"column\": \"is_canceled\",\n      \"properties\": {\n        \"dtype\": \"number\",\n        \"std\": 0,\n        \"min\": 0,\n        \"max\": 1,\n        \"samples\": [\n          1\n        ],\n        \"num_unique_values\": 2,\n        \"semantic_type\": \"\",\n        \"description\": \"\"\n      }\n    }\n  ]\n}",
              "type": "dataframe"
            },
            "text/html": [
              "\n",
              "  <div id=\"df-a6e1069d-ffee-498c-8549-14a1f212bd0f\" class=\"colab-df-container\">\n",
              "    <div>\n",
              "<style scoped>\n",
              "    .dataframe tbody tr th:only-of-type {\n",
              "        vertical-align: middle;\n",
              "    }\n",
              "\n",
              "    .dataframe tbody tr th {\n",
              "        vertical-align: top;\n",
              "    }\n",
              "\n",
              "    .dataframe thead th {\n",
              "        text-align: right;\n",
              "    }\n",
              "</style>\n",
              "<table border=\"1\" class=\"dataframe\">\n",
              "  <thead>\n",
              "    <tr style=\"text-align: right;\">\n",
              "      <th></th>\n",
              "      <th>adults</th>\n",
              "      <th>children</th>\n",
              "      <th>babies</th>\n",
              "      <th>is_canceled</th>\n",
              "    </tr>\n",
              "  </thead>\n",
              "  <tbody>\n",
              "    <tr>\n",
              "      <th>2224</th>\n",
              "      <td>0</td>\n",
              "      <td>0.0</td>\n",
              "      <td>0</td>\n",
              "      <td>0</td>\n",
              "    </tr>\n",
              "    <tr>\n",
              "      <th>2409</th>\n",
              "      <td>0</td>\n",
              "      <td>0.0</td>\n",
              "      <td>0</td>\n",
              "      <td>0</td>\n",
              "    </tr>\n",
              "    <tr>\n",
              "      <th>3181</th>\n",
              "      <td>0</td>\n",
              "      <td>0.0</td>\n",
              "      <td>0</td>\n",
              "      <td>0</td>\n",
              "    </tr>\n",
              "    <tr>\n",
              "      <th>3684</th>\n",
              "      <td>0</td>\n",
              "      <td>0.0</td>\n",
              "      <td>0</td>\n",
              "      <td>0</td>\n",
              "    </tr>\n",
              "    <tr>\n",
              "      <th>3708</th>\n",
              "      <td>0</td>\n",
              "      <td>0.0</td>\n",
              "      <td>0</td>\n",
              "      <td>0</td>\n",
              "    </tr>\n",
              "    <tr>\n",
              "      <th>...</th>\n",
              "      <td>...</td>\n",
              "      <td>...</td>\n",
              "      <td>...</td>\n",
              "      <td>...</td>\n",
              "    </tr>\n",
              "    <tr>\n",
              "      <th>115029</th>\n",
              "      <td>0</td>\n",
              "      <td>0.0</td>\n",
              "      <td>0</td>\n",
              "      <td>0</td>\n",
              "    </tr>\n",
              "    <tr>\n",
              "      <th>115091</th>\n",
              "      <td>0</td>\n",
              "      <td>0.0</td>\n",
              "      <td>0</td>\n",
              "      <td>0</td>\n",
              "    </tr>\n",
              "    <tr>\n",
              "      <th>116251</th>\n",
              "      <td>0</td>\n",
              "      <td>0.0</td>\n",
              "      <td>0</td>\n",
              "      <td>0</td>\n",
              "    </tr>\n",
              "    <tr>\n",
              "      <th>116534</th>\n",
              "      <td>0</td>\n",
              "      <td>0.0</td>\n",
              "      <td>0</td>\n",
              "      <td>0</td>\n",
              "    </tr>\n",
              "    <tr>\n",
              "      <th>117087</th>\n",
              "      <td>0</td>\n",
              "      <td>0.0</td>\n",
              "      <td>0</td>\n",
              "      <td>0</td>\n",
              "    </tr>\n",
              "  </tbody>\n",
              "</table>\n",
              "<p>166 rows × 4 columns</p>\n",
              "</div>\n",
              "    <div class=\"colab-df-buttons\">\n",
              "\n",
              "  <div class=\"colab-df-container\">\n",
              "    <button class=\"colab-df-convert\" onclick=\"convertToInteractive('df-a6e1069d-ffee-498c-8549-14a1f212bd0f')\"\n",
              "            title=\"Convert this dataframe to an interactive table.\"\n",
              "            style=\"display:none;\">\n",
              "\n",
              "  <svg xmlns=\"http://www.w3.org/2000/svg\" height=\"24px\" viewBox=\"0 -960 960 960\">\n",
              "    <path d=\"M120-120v-720h720v720H120Zm60-500h600v-160H180v160Zm220 220h160v-160H400v160Zm0 220h160v-160H400v160ZM180-400h160v-160H180v160Zm440 0h160v-160H620v160ZM180-180h160v-160H180v160Zm440 0h160v-160H620v160Z\"/>\n",
              "  </svg>\n",
              "    </button>\n",
              "\n",
              "  <style>\n",
              "    .colab-df-container {\n",
              "      display:flex;\n",
              "      gap: 12px;\n",
              "    }\n",
              "\n",
              "    .colab-df-convert {\n",
              "      background-color: #E8F0FE;\n",
              "      border: none;\n",
              "      border-radius: 50%;\n",
              "      cursor: pointer;\n",
              "      display: none;\n",
              "      fill: #1967D2;\n",
              "      height: 32px;\n",
              "      padding: 0 0 0 0;\n",
              "      width: 32px;\n",
              "    }\n",
              "\n",
              "    .colab-df-convert:hover {\n",
              "      background-color: #E2EBFA;\n",
              "      box-shadow: 0px 1px 2px rgba(60, 64, 67, 0.3), 0px 1px 3px 1px rgba(60, 64, 67, 0.15);\n",
              "      fill: #174EA6;\n",
              "    }\n",
              "\n",
              "    .colab-df-buttons div {\n",
              "      margin-bottom: 4px;\n",
              "    }\n",
              "\n",
              "    [theme=dark] .colab-df-convert {\n",
              "      background-color: #3B4455;\n",
              "      fill: #D2E3FC;\n",
              "    }\n",
              "\n",
              "    [theme=dark] .colab-df-convert:hover {\n",
              "      background-color: #434B5C;\n",
              "      box-shadow: 0px 1px 3px 1px rgba(0, 0, 0, 0.15);\n",
              "      filter: drop-shadow(0px 1px 2px rgba(0, 0, 0, 0.3));\n",
              "      fill: #FFFFFF;\n",
              "    }\n",
              "  </style>\n",
              "\n",
              "    <script>\n",
              "      const buttonEl =\n",
              "        document.querySelector('#df-a6e1069d-ffee-498c-8549-14a1f212bd0f button.colab-df-convert');\n",
              "      buttonEl.style.display =\n",
              "        google.colab.kernel.accessAllowed ? 'block' : 'none';\n",
              "\n",
              "      async function convertToInteractive(key) {\n",
              "        const element = document.querySelector('#df-a6e1069d-ffee-498c-8549-14a1f212bd0f');\n",
              "        const dataTable =\n",
              "          await google.colab.kernel.invokeFunction('convertToInteractive',\n",
              "                                                    [key], {});\n",
              "        if (!dataTable) return;\n",
              "\n",
              "        const docLinkHtml = 'Like what you see? Visit the ' +\n",
              "          '<a target=\"_blank\" href=https://colab.research.google.com/notebooks/data_table.ipynb>data table notebook</a>'\n",
              "          + ' to learn more about interactive tables.';\n",
              "        element.innerHTML = '';\n",
              "        dataTable['output_type'] = 'display_data';\n",
              "        await google.colab.output.renderOutput(dataTable, element);\n",
              "        const docLink = document.createElement('div');\n",
              "        docLink.innerHTML = docLinkHtml;\n",
              "        element.appendChild(docLink);\n",
              "      }\n",
              "    </script>\n",
              "  </div>\n",
              "\n",
              "\n",
              "<div id=\"df-ff246ed4-5ea9-49b3-8954-f547b905287f\">\n",
              "  <button class=\"colab-df-quickchart\" onclick=\"quickchart('df-ff246ed4-5ea9-49b3-8954-f547b905287f')\"\n",
              "            title=\"Suggest charts\"\n",
              "            style=\"display:none;\">\n",
              "\n",
              "<svg xmlns=\"http://www.w3.org/2000/svg\" height=\"24px\"viewBox=\"0 0 24 24\"\n",
              "     width=\"24px\">\n",
              "    <g>\n",
              "        <path d=\"M19 3H5c-1.1 0-2 .9-2 2v14c0 1.1.9 2 2 2h14c1.1 0 2-.9 2-2V5c0-1.1-.9-2-2-2zM9 17H7v-7h2v7zm4 0h-2V7h2v10zm4 0h-2v-4h2v4z\"/>\n",
              "    </g>\n",
              "</svg>\n",
              "  </button>\n",
              "\n",
              "<style>\n",
              "  .colab-df-quickchart {\n",
              "      --bg-color: #E8F0FE;\n",
              "      --fill-color: #1967D2;\n",
              "      --hover-bg-color: #E2EBFA;\n",
              "      --hover-fill-color: #174EA6;\n",
              "      --disabled-fill-color: #AAA;\n",
              "      --disabled-bg-color: #DDD;\n",
              "  }\n",
              "\n",
              "  [theme=dark] .colab-df-quickchart {\n",
              "      --bg-color: #3B4455;\n",
              "      --fill-color: #D2E3FC;\n",
              "      --hover-bg-color: #434B5C;\n",
              "      --hover-fill-color: #FFFFFF;\n",
              "      --disabled-bg-color: #3B4455;\n",
              "      --disabled-fill-color: #666;\n",
              "  }\n",
              "\n",
              "  .colab-df-quickchart {\n",
              "    background-color: var(--bg-color);\n",
              "    border: none;\n",
              "    border-radius: 50%;\n",
              "    cursor: pointer;\n",
              "    display: none;\n",
              "    fill: var(--fill-color);\n",
              "    height: 32px;\n",
              "    padding: 0;\n",
              "    width: 32px;\n",
              "  }\n",
              "\n",
              "  .colab-df-quickchart:hover {\n",
              "    background-color: var(--hover-bg-color);\n",
              "    box-shadow: 0 1px 2px rgba(60, 64, 67, 0.3), 0 1px 3px 1px rgba(60, 64, 67, 0.15);\n",
              "    fill: var(--button-hover-fill-color);\n",
              "  }\n",
              "\n",
              "  .colab-df-quickchart-complete:disabled,\n",
              "  .colab-df-quickchart-complete:disabled:hover {\n",
              "    background-color: var(--disabled-bg-color);\n",
              "    fill: var(--disabled-fill-color);\n",
              "    box-shadow: none;\n",
              "  }\n",
              "\n",
              "  .colab-df-spinner {\n",
              "    border: 2px solid var(--fill-color);\n",
              "    border-color: transparent;\n",
              "    border-bottom-color: var(--fill-color);\n",
              "    animation:\n",
              "      spin 1s steps(1) infinite;\n",
              "  }\n",
              "\n",
              "  @keyframes spin {\n",
              "    0% {\n",
              "      border-color: transparent;\n",
              "      border-bottom-color: var(--fill-color);\n",
              "      border-left-color: var(--fill-color);\n",
              "    }\n",
              "    20% {\n",
              "      border-color: transparent;\n",
              "      border-left-color: var(--fill-color);\n",
              "      border-top-color: var(--fill-color);\n",
              "    }\n",
              "    30% {\n",
              "      border-color: transparent;\n",
              "      border-left-color: var(--fill-color);\n",
              "      border-top-color: var(--fill-color);\n",
              "      border-right-color: var(--fill-color);\n",
              "    }\n",
              "    40% {\n",
              "      border-color: transparent;\n",
              "      border-right-color: var(--fill-color);\n",
              "      border-top-color: var(--fill-color);\n",
              "    }\n",
              "    60% {\n",
              "      border-color: transparent;\n",
              "      border-right-color: var(--fill-color);\n",
              "    }\n",
              "    80% {\n",
              "      border-color: transparent;\n",
              "      border-right-color: var(--fill-color);\n",
              "      border-bottom-color: var(--fill-color);\n",
              "    }\n",
              "    90% {\n",
              "      border-color: transparent;\n",
              "      border-bottom-color: var(--fill-color);\n",
              "    }\n",
              "  }\n",
              "</style>\n",
              "\n",
              "  <script>\n",
              "    async function quickchart(key) {\n",
              "      const quickchartButtonEl =\n",
              "        document.querySelector('#' + key + ' button');\n",
              "      quickchartButtonEl.disabled = true;  // To prevent multiple clicks.\n",
              "      quickchartButtonEl.classList.add('colab-df-spinner');\n",
              "      try {\n",
              "        const charts = await google.colab.kernel.invokeFunction(\n",
              "            'suggestCharts', [key], {});\n",
              "      } catch (error) {\n",
              "        console.error('Error during call to suggestCharts:', error);\n",
              "      }\n",
              "      quickchartButtonEl.classList.remove('colab-df-spinner');\n",
              "      quickchartButtonEl.classList.add('colab-df-quickchart-complete');\n",
              "    }\n",
              "    (() => {\n",
              "      let quickchartButtonEl =\n",
              "        document.querySelector('#df-ff246ed4-5ea9-49b3-8954-f547b905287f button');\n",
              "      quickchartButtonEl.style.display =\n",
              "        google.colab.kernel.accessAllowed ? 'block' : 'none';\n",
              "    })();\n",
              "  </script>\n",
              "</div>\n",
              "\n",
              "    </div>\n",
              "  </div>\n"
            ],
            "text/plain": [
              "        adults  children  babies  is_canceled\n",
              "2224         0       0.0       0            0\n",
              "2409         0       0.0       0            0\n",
              "3181         0       0.0       0            0\n",
              "3684         0       0.0       0            0\n",
              "3708         0       0.0       0            0\n",
              "...        ...       ...     ...          ...\n",
              "115029       0       0.0       0            0\n",
              "115091       0       0.0       0            0\n",
              "116251       0       0.0       0            0\n",
              "116534       0       0.0       0            0\n",
              "117087       0       0.0       0            0\n",
              "\n",
              "[166 rows x 4 columns]"
            ]
          },
          "execution_count": 20,
          "metadata": {},
          "output_type": "execute_result"
        }
      ],
      "source": [
        "df[(df[\"adults\"] == 0) & (df['children'] == 0) & (df['babies'] == 0)][[\"adults\",\"children\",\"babies\",\"is_canceled\"]]"
      ]
    },
    {
      "cell_type": "markdown",
      "metadata": {
        "id": "11xDbrWdo_c1"
      },
      "source": [
        "OBSERVATION\n",
        "\n",
        "There are some rows with total number of adults, children or babies equal to zero. As adults, babies, and children can't be zero at the same time, so dropping the rows having all these zero at the same time because will mean that the hotel/room was not even booked."
      ]
    },
    {
      "cell_type": "code",
      "execution_count": null,
      "metadata": {
        "colab": {
          "base_uri": "https://localhost:8080/"
        },
        "id": "BEdMcYajpA5k",
        "outputId": "d6b459ac-9367-47ad-b7fb-bc505c8dad73"
      },
      "outputs": [
        {
          "data": {
            "text/plain": [
              "(166, 32)"
            ]
          },
          "execution_count": 21,
          "metadata": {},
          "output_type": "execute_result"
        }
      ],
      "source": [
        "df[df['adults']+df['babies']+df['children'] == 0].shape"
      ]
    },
    {
      "cell_type": "code",
      "execution_count": null,
      "metadata": {
        "id": "z_TYvRjgpKK8"
      },
      "outputs": [],
      "source": [
        "df.drop(df[df['adults']+df['babies']+df['children'] == 0].index, inplace = True)"
      ]
    },
    {
      "cell_type": "code",
      "execution_count": null,
      "metadata": {
        "colab": {
          "base_uri": "https://localhost:8080/"
        },
        "id": "eLwYcbTRpSV0",
        "outputId": "50014cf5-51e8-4ea8-ba72-b3429e480c14"
      },
      "outputs": [
        {
          "data": {
            "text/plain": [
              "(87230, 32)"
            ]
          },
          "execution_count": 23,
          "metadata": {},
          "output_type": "execute_result"
        }
      ],
      "source": [
        "df.shape"
      ]
    },
    {
      "cell_type": "markdown",
      "metadata": {
        "id": "K34EQ_rqpVpG"
      },
      "source": [
        "## **2. Understanding Your Variables**"
      ]
    },
    {
      "cell_type": "code",
      "execution_count": null,
      "metadata": {
        "colab": {
          "base_uri": "https://localhost:8080/"
        },
        "id": "V1baSVe3rvU5",
        "outputId": "58028204-68aa-481b-bf68-6a17020515d9"
      },
      "outputs": [
        {
          "data": {
            "text/plain": [
              "Index(['hotel', 'is_canceled', 'lead_time', 'arrival_date_year',\n",
              "       'arrival_date_month', 'arrival_date_week_number',\n",
              "       'arrival_date_day_of_month', 'stays_in_weekend_nights',\n",
              "       'stays_in_week_nights', 'adults', 'children', 'babies', 'meal',\n",
              "       'country', 'market_segment', 'distribution_channel',\n",
              "       'is_repeated_guest', 'previous_cancellations',\n",
              "       'previous_bookings_not_canceled', 'reserved_room_type',\n",
              "       'assigned_room_type', 'booking_changes', 'deposit_type', 'agent',\n",
              "       'company', 'days_in_waiting_list', 'customer_type', 'adr',\n",
              "       'required_car_parking_spaces', 'total_of_special_requests',\n",
              "       'reservation_status', 'reservation_status_date'],\n",
              "      dtype='object')"
            ]
          },
          "execution_count": 24,
          "metadata": {},
          "output_type": "execute_result"
        }
      ],
      "source": [
        "# Dataset Columns\n",
        "df.columns"
      ]
    },
    {
      "cell_type": "code",
      "execution_count": null,
      "metadata": {
        "colab": {
          "base_uri": "https://localhost:8080/",
          "height": 320
        },
        "id": "lLWA7Lpmr19K",
        "outputId": "f05c0bc7-210f-4b5a-896f-a750ad208468"
      },
      "outputs": [
        {
          "data": {
            "application/vnd.google.colaboratory.intrinsic+json": {
              "summary": "{\n  \"name\": \"df\",\n  \"rows\": 8,\n  \"fields\": [\n    {\n      \"column\": \"is_canceled\",\n      \"properties\": {\n        \"dtype\": \"number\",\n        \"std\": 30840.324788846923,\n        \"min\": 0.0,\n        \"max\": 87230.0,\n        \"samples\": [\n          0.2752378768772211,\n          1.0,\n          0.44663662510621993\n        ],\n        \"num_unique_values\": 5,\n        \"semantic_type\": \"\",\n        \"description\": \"\"\n      }\n    },\n    {\n      \"column\": \"lead_time\",\n      \"properties\": {\n        \"dtype\": \"number\",\n        \"std\": 30786.450454585458,\n        \"min\": 0.0,\n        \"max\": 87230.0,\n        \"samples\": [\n          79.97101914478964,\n          49.0,\n          87230.0\n        ],\n        \"num_unique_values\": 8,\n        \"semantic_type\": \"\",\n        \"description\": \"\"\n      }\n    },\n    {\n      \"column\": \"arrival_date_year\",\n      \"properties\": {\n        \"dtype\": \"number\",\n        \"std\": 30237.652601297632,\n        \"min\": 0.6860637823534028,\n        \"max\": 87230.0,\n        \"samples\": [\n          87230.0,\n          2016.210351943139,\n          2017.0\n        ],\n        \"num_unique_values\": 6,\n        \"semantic_type\": \"\",\n        \"description\": \"\"\n      }\n    },\n    {\n      \"column\": \"arrival_date_week_number\",\n      \"properties\": {\n        \"dtype\": \"number\",\n        \"std\": 30831.652449413803,\n        \"min\": 1.0,\n        \"max\": 87230.0,\n        \"samples\": [\n          26.835091138369826,\n          27.0,\n          87230.0\n        ],\n        \"num_unique_values\": 8,\n        \"semantic_type\": \"\",\n        \"description\": \"\"\n      }\n    },\n    {\n      \"column\": \"arrival_date_day_of_month\",\n      \"properties\": {\n        \"dtype\": \"number\",\n        \"std\": 30835.22847641797,\n        \"min\": 1.0,\n        \"max\": 87230.0,\n        \"samples\": [\n          15.815831709274333,\n          16.0,\n          87230.0\n        ],\n        \"num_unique_values\": 8,\n        \"semantic_type\": \"\",\n        \"description\": \"\"\n      }\n    },\n    {\n      \"column\": \"stays_in_weekend_nights\",\n      \"properties\": {\n        \"dtype\": \"number\",\n        \"std\": 30839.249122699242,\n        \"min\": 0.0,\n        \"max\": 87230.0,\n        \"samples\": [\n          87230.0,\n          1.0046085062478505,\n          2.0\n        ],\n        \"num_unique_values\": 7,\n        \"semantic_type\": \"\",\n        \"description\": \"\"\n      }\n    },\n    {\n      \"column\": \"stays_in_week_nights\",\n      \"properties\": {\n        \"dtype\": \"number\",\n        \"std\": 30837.352378223182,\n        \"min\": 0.0,\n        \"max\": 87230.0,\n        \"samples\": [\n          2.623925255072796,\n          2.0,\n          87230.0\n        ],\n        \"num_unique_values\": 8,\n        \"semantic_type\": \"\",\n        \"description\": \"\"\n      }\n    },\n    {\n      \"column\": \"adults\",\n      \"properties\": {\n        \"dtype\": \"number\",\n        \"std\": 30837.260681507723,\n        \"min\": 0.0,\n        \"max\": 87230.0,\n        \"samples\": [\n          87230.0,\n          1.8793648973976842,\n          55.0\n        ],\n        \"num_unique_values\": 6,\n        \"semantic_type\": \"\",\n        \"description\": \"\"\n      }\n    },\n    {\n      \"column\": \"children\",\n      \"properties\": {\n        \"dtype\": \"number\",\n        \"std\": 30839.927319682094,\n        \"min\": 0.0,\n        \"max\": 87230.0,\n        \"samples\": [\n          0.13890352583709367,\n          10.0,\n          0.4562638411945496\n        ],\n        \"num_unique_values\": 5,\n        \"semantic_type\": \"\",\n        \"description\": \"\"\n      }\n    },\n    {\n      \"column\": \"babies\",\n      \"properties\": {\n        \"dtype\": \"number\",\n        \"std\": 30839.951092254723,\n        \"min\": 0.0,\n        \"max\": 87230.0,\n        \"samples\": [\n          0.010844892812105928,\n          10.0,\n          0.1137035924437635\n        ],\n        \"num_unique_values\": 5,\n        \"semantic_type\": \"\",\n        \"description\": \"\"\n      }\n    },\n    {\n      \"column\": \"is_repeated_guest\",\n      \"properties\": {\n        \"dtype\": \"number\",\n        \"std\": 30840.40008235745,\n        \"min\": 0.0,\n        \"max\": 87230.0,\n        \"samples\": [\n          0.03856471397455004,\n          1.0,\n          0.19255623040990374\n        ],\n        \"num_unique_values\": 5,\n        \"semantic_type\": \"\",\n        \"description\": \"\"\n      }\n    },\n    {\n      \"column\": \"previous_cancellations\",\n      \"properties\": {\n        \"dtype\": \"number\",\n        \"std\": 30839.13020831925,\n        \"min\": 0.0,\n        \"max\": 87230.0,\n        \"samples\": [\n          0.030402384500745158,\n          26.0,\n          0.36934446068533255\n        ],\n        \"num_unique_values\": 5,\n        \"semantic_type\": \"\",\n        \"description\": \"\"\n      }\n    },\n    {\n      \"column\": \"previous_bookings_not_canceled\",\n      \"properties\": {\n        \"dtype\": \"number\",\n        \"std\": 30836.73909175937,\n        \"min\": 0.0,\n        \"max\": 87230.0,\n        \"samples\": [\n          0.184053651266766,\n          72.0,\n          1.7330334804975547\n        ],\n        \"num_unique_values\": 5,\n        \"semantic_type\": \"\",\n        \"description\": \"\"\n      }\n    },\n    {\n      \"column\": \"booking_changes\",\n      \"properties\": {\n        \"dtype\": \"number\",\n        \"std\": 30839.50430322611,\n        \"min\": 0.0,\n        \"max\": 87230.0,\n        \"samples\": [\n          0.268497076693798,\n          18.0,\n          0.7106325923077134\n        ],\n        \"num_unique_values\": 5,\n        \"semantic_type\": \"\",\n        \"description\": \"\"\n      }\n    },\n    {\n      \"column\": \"agent\",\n      \"properties\": {\n        \"dtype\": \"number\",\n        \"std\": 30791.279763009406,\n        \"min\": 0.0,\n        \"max\": 87230.0,\n        \"samples\": [\n          87230.0,\n          81.08925828270091,\n          240.0\n        ],\n        \"num_unique_values\": 7,\n        \"semantic_type\": \"\",\n        \"description\": \"\"\n      }\n    },\n    {\n      \"column\": \"company\",\n      \"properties\": {\n        \"dtype\": \"number\",\n        \"std\": 30810.324759685172,\n        \"min\": 0.0,\n        \"max\": 87230.0,\n        \"samples\": [\n          10.9849478390462,\n          543.0,\n          53.95666785222182\n        ],\n        \"num_unique_values\": 5,\n        \"semantic_type\": \"\",\n        \"description\": \"\"\n      }\n    },\n    {\n      \"column\": \"days_in_waiting_list\",\n      \"properties\": {\n        \"dtype\": \"number\",\n        \"std\": 30820.472068994666,\n        \"min\": 0.0,\n        \"max\": 87230.0,\n        \"samples\": [\n          0.7462914135045282,\n          391.0,\n          10.00100086432976\n        ],\n        \"num_unique_values\": 5,\n        \"semantic_type\": \"\",\n        \"description\": \"\"\n      }\n    },\n    {\n      \"column\": \"adr\",\n      \"properties\": {\n        \"dtype\": \"number\",\n        \"std\": 30601.287146502018,\n        \"min\": -6.38,\n        \"max\": 87230.0,\n        \"samples\": [\n          106.51803072337499,\n          98.2,\n          87230.0\n        ],\n        \"num_unique_values\": 8,\n        \"semantic_type\": \"\",\n        \"description\": \"\"\n      }\n    },\n    {\n      \"column\": \"required_car_parking_spaces\",\n      \"properties\": {\n        \"dtype\": \"number\",\n        \"std\": 30840.03984170856,\n        \"min\": 0.0,\n        \"max\": 87230.0,\n        \"samples\": [\n          0.08430585807634988,\n          8.0,\n          0.2816586298321364\n        ],\n        \"num_unique_values\": 5,\n        \"semantic_type\": \"\",\n        \"description\": \"\"\n      }\n    },\n    {\n      \"column\": \"total_of_special_requests\",\n      \"properties\": {\n        \"dtype\": \"number\",\n        \"std\": 30840.08193346667,\n        \"min\": 0.0,\n        \"max\": 87230.0,\n        \"samples\": [\n          87230.0,\n          0.6989338530322137,\n          5.0\n        ],\n        \"num_unique_values\": 6,\n        \"semantic_type\": \"\",\n        \"description\": \"\"\n      }\n    }\n  ]\n}",
              "type": "dataframe"
            },
            "text/html": [
              "\n",
              "  <div id=\"df-539cd283-c183-47ec-a146-757c616e986d\" class=\"colab-df-container\">\n",
              "    <div>\n",
              "<style scoped>\n",
              "    .dataframe tbody tr th:only-of-type {\n",
              "        vertical-align: middle;\n",
              "    }\n",
              "\n",
              "    .dataframe tbody tr th {\n",
              "        vertical-align: top;\n",
              "    }\n",
              "\n",
              "    .dataframe thead th {\n",
              "        text-align: right;\n",
              "    }\n",
              "</style>\n",
              "<table border=\"1\" class=\"dataframe\">\n",
              "  <thead>\n",
              "    <tr style=\"text-align: right;\">\n",
              "      <th></th>\n",
              "      <th>is_canceled</th>\n",
              "      <th>lead_time</th>\n",
              "      <th>arrival_date_year</th>\n",
              "      <th>arrival_date_week_number</th>\n",
              "      <th>arrival_date_day_of_month</th>\n",
              "      <th>stays_in_weekend_nights</th>\n",
              "      <th>stays_in_week_nights</th>\n",
              "      <th>adults</th>\n",
              "      <th>children</th>\n",
              "      <th>babies</th>\n",
              "      <th>is_repeated_guest</th>\n",
              "      <th>previous_cancellations</th>\n",
              "      <th>previous_bookings_not_canceled</th>\n",
              "      <th>booking_changes</th>\n",
              "      <th>agent</th>\n",
              "      <th>company</th>\n",
              "      <th>days_in_waiting_list</th>\n",
              "      <th>adr</th>\n",
              "      <th>required_car_parking_spaces</th>\n",
              "      <th>total_of_special_requests</th>\n",
              "    </tr>\n",
              "  </thead>\n",
              "  <tbody>\n",
              "    <tr>\n",
              "      <th>count</th>\n",
              "      <td>87230.000000</td>\n",
              "      <td>87230.000000</td>\n",
              "      <td>87230.000000</td>\n",
              "      <td>87230.000000</td>\n",
              "      <td>87230.000000</td>\n",
              "      <td>87230.000000</td>\n",
              "      <td>87230.000000</td>\n",
              "      <td>87230.000000</td>\n",
              "      <td>87230.000000</td>\n",
              "      <td>87230.000000</td>\n",
              "      <td>87230.000000</td>\n",
              "      <td>87230.000000</td>\n",
              "      <td>87230.000000</td>\n",
              "      <td>87230.000000</td>\n",
              "      <td>87230.000000</td>\n",
              "      <td>87230.000000</td>\n",
              "      <td>87230.000000</td>\n",
              "      <td>87230.000000</td>\n",
              "      <td>87230.000000</td>\n",
              "      <td>87230.000000</td>\n",
              "    </tr>\n",
              "    <tr>\n",
              "      <th>mean</th>\n",
              "      <td>0.275238</td>\n",
              "      <td>79.971019</td>\n",
              "      <td>2016.210352</td>\n",
              "      <td>26.835091</td>\n",
              "      <td>15.815832</td>\n",
              "      <td>1.004609</td>\n",
              "      <td>2.623925</td>\n",
              "      <td>1.879365</td>\n",
              "      <td>0.138904</td>\n",
              "      <td>0.010845</td>\n",
              "      <td>0.038565</td>\n",
              "      <td>0.030402</td>\n",
              "      <td>0.184054</td>\n",
              "      <td>0.268497</td>\n",
              "      <td>81.089258</td>\n",
              "      <td>10.984948</td>\n",
              "      <td>0.746291</td>\n",
              "      <td>106.518031</td>\n",
              "      <td>0.084306</td>\n",
              "      <td>0.698934</td>\n",
              "    </tr>\n",
              "    <tr>\n",
              "      <th>std</th>\n",
              "      <td>0.446637</td>\n",
              "      <td>86.058683</td>\n",
              "      <td>0.686064</td>\n",
              "      <td>13.669216</td>\n",
              "      <td>8.835545</td>\n",
              "      <td>1.027408</td>\n",
              "      <td>2.039830</td>\n",
              "      <td>0.621724</td>\n",
              "      <td>0.456264</td>\n",
              "      <td>0.113704</td>\n",
              "      <td>0.192556</td>\n",
              "      <td>0.369344</td>\n",
              "      <td>1.733033</td>\n",
              "      <td>0.710633</td>\n",
              "      <td>109.977255</td>\n",
              "      <td>53.956668</td>\n",
              "      <td>10.001001</td>\n",
              "      <td>54.891227</td>\n",
              "      <td>0.281659</td>\n",
              "      <td>0.832051</td>\n",
              "    </tr>\n",
              "    <tr>\n",
              "      <th>min</th>\n",
              "      <td>0.000000</td>\n",
              "      <td>0.000000</td>\n",
              "      <td>2015.000000</td>\n",
              "      <td>1.000000</td>\n",
              "      <td>1.000000</td>\n",
              "      <td>0.000000</td>\n",
              "      <td>0.000000</td>\n",
              "      <td>0.000000</td>\n",
              "      <td>0.000000</td>\n",
              "      <td>0.000000</td>\n",
              "      <td>0.000000</td>\n",
              "      <td>0.000000</td>\n",
              "      <td>0.000000</td>\n",
              "      <td>0.000000</td>\n",
              "      <td>0.000000</td>\n",
              "      <td>0.000000</td>\n",
              "      <td>0.000000</td>\n",
              "      <td>-6.380000</td>\n",
              "      <td>0.000000</td>\n",
              "      <td>0.000000</td>\n",
              "    </tr>\n",
              "    <tr>\n",
              "      <th>25%</th>\n",
              "      <td>0.000000</td>\n",
              "      <td>11.000000</td>\n",
              "      <td>2016.000000</td>\n",
              "      <td>16.000000</td>\n",
              "      <td>8.000000</td>\n",
              "      <td>0.000000</td>\n",
              "      <td>1.000000</td>\n",
              "      <td>2.000000</td>\n",
              "      <td>0.000000</td>\n",
              "      <td>0.000000</td>\n",
              "      <td>0.000000</td>\n",
              "      <td>0.000000</td>\n",
              "      <td>0.000000</td>\n",
              "      <td>0.000000</td>\n",
              "      <td>9.000000</td>\n",
              "      <td>0.000000</td>\n",
              "      <td>0.000000</td>\n",
              "      <td>72.250000</td>\n",
              "      <td>0.000000</td>\n",
              "      <td>0.000000</td>\n",
              "    </tr>\n",
              "    <tr>\n",
              "      <th>50%</th>\n",
              "      <td>0.000000</td>\n",
              "      <td>49.000000</td>\n",
              "      <td>2016.000000</td>\n",
              "      <td>27.000000</td>\n",
              "      <td>16.000000</td>\n",
              "      <td>1.000000</td>\n",
              "      <td>2.000000</td>\n",
              "      <td>2.000000</td>\n",
              "      <td>0.000000</td>\n",
              "      <td>0.000000</td>\n",
              "      <td>0.000000</td>\n",
              "      <td>0.000000</td>\n",
              "      <td>0.000000</td>\n",
              "      <td>0.000000</td>\n",
              "      <td>9.000000</td>\n",
              "      <td>0.000000</td>\n",
              "      <td>0.000000</td>\n",
              "      <td>98.200000</td>\n",
              "      <td>0.000000</td>\n",
              "      <td>0.000000</td>\n",
              "    </tr>\n",
              "    <tr>\n",
              "      <th>75%</th>\n",
              "      <td>1.000000</td>\n",
              "      <td>125.000000</td>\n",
              "      <td>2017.000000</td>\n",
              "      <td>37.000000</td>\n",
              "      <td>23.000000</td>\n",
              "      <td>2.000000</td>\n",
              "      <td>4.000000</td>\n",
              "      <td>2.000000</td>\n",
              "      <td>0.000000</td>\n",
              "      <td>0.000000</td>\n",
              "      <td>0.000000</td>\n",
              "      <td>0.000000</td>\n",
              "      <td>0.000000</td>\n",
              "      <td>0.000000</td>\n",
              "      <td>240.000000</td>\n",
              "      <td>0.000000</td>\n",
              "      <td>0.000000</td>\n",
              "      <td>134.100000</td>\n",
              "      <td>0.000000</td>\n",
              "      <td>1.000000</td>\n",
              "    </tr>\n",
              "    <tr>\n",
              "      <th>max</th>\n",
              "      <td>1.000000</td>\n",
              "      <td>737.000000</td>\n",
              "      <td>2017.000000</td>\n",
              "      <td>53.000000</td>\n",
              "      <td>31.000000</td>\n",
              "      <td>19.000000</td>\n",
              "      <td>50.000000</td>\n",
              "      <td>55.000000</td>\n",
              "      <td>10.000000</td>\n",
              "      <td>10.000000</td>\n",
              "      <td>1.000000</td>\n",
              "      <td>26.000000</td>\n",
              "      <td>72.000000</td>\n",
              "      <td>18.000000</td>\n",
              "      <td>535.000000</td>\n",
              "      <td>543.000000</td>\n",
              "      <td>391.000000</td>\n",
              "      <td>5400.000000</td>\n",
              "      <td>8.000000</td>\n",
              "      <td>5.000000</td>\n",
              "    </tr>\n",
              "  </tbody>\n",
              "</table>\n",
              "</div>\n",
              "    <div class=\"colab-df-buttons\">\n",
              "\n",
              "  <div class=\"colab-df-container\">\n",
              "    <button class=\"colab-df-convert\" onclick=\"convertToInteractive('df-539cd283-c183-47ec-a146-757c616e986d')\"\n",
              "            title=\"Convert this dataframe to an interactive table.\"\n",
              "            style=\"display:none;\">\n",
              "\n",
              "  <svg xmlns=\"http://www.w3.org/2000/svg\" height=\"24px\" viewBox=\"0 -960 960 960\">\n",
              "    <path d=\"M120-120v-720h720v720H120Zm60-500h600v-160H180v160Zm220 220h160v-160H400v160Zm0 220h160v-160H400v160ZM180-400h160v-160H180v160Zm440 0h160v-160H620v160ZM180-180h160v-160H180v160Zm440 0h160v-160H620v160Z\"/>\n",
              "  </svg>\n",
              "    </button>\n",
              "\n",
              "  <style>\n",
              "    .colab-df-container {\n",
              "      display:flex;\n",
              "      gap: 12px;\n",
              "    }\n",
              "\n",
              "    .colab-df-convert {\n",
              "      background-color: #E8F0FE;\n",
              "      border: none;\n",
              "      border-radius: 50%;\n",
              "      cursor: pointer;\n",
              "      display: none;\n",
              "      fill: #1967D2;\n",
              "      height: 32px;\n",
              "      padding: 0 0 0 0;\n",
              "      width: 32px;\n",
              "    }\n",
              "\n",
              "    .colab-df-convert:hover {\n",
              "      background-color: #E2EBFA;\n",
              "      box-shadow: 0px 1px 2px rgba(60, 64, 67, 0.3), 0px 1px 3px 1px rgba(60, 64, 67, 0.15);\n",
              "      fill: #174EA6;\n",
              "    }\n",
              "\n",
              "    .colab-df-buttons div {\n",
              "      margin-bottom: 4px;\n",
              "    }\n",
              "\n",
              "    [theme=dark] .colab-df-convert {\n",
              "      background-color: #3B4455;\n",
              "      fill: #D2E3FC;\n",
              "    }\n",
              "\n",
              "    [theme=dark] .colab-df-convert:hover {\n",
              "      background-color: #434B5C;\n",
              "      box-shadow: 0px 1px 3px 1px rgba(0, 0, 0, 0.15);\n",
              "      filter: drop-shadow(0px 1px 2px rgba(0, 0, 0, 0.3));\n",
              "      fill: #FFFFFF;\n",
              "    }\n",
              "  </style>\n",
              "\n",
              "    <script>\n",
              "      const buttonEl =\n",
              "        document.querySelector('#df-539cd283-c183-47ec-a146-757c616e986d button.colab-df-convert');\n",
              "      buttonEl.style.display =\n",
              "        google.colab.kernel.accessAllowed ? 'block' : 'none';\n",
              "\n",
              "      async function convertToInteractive(key) {\n",
              "        const element = document.querySelector('#df-539cd283-c183-47ec-a146-757c616e986d');\n",
              "        const dataTable =\n",
              "          await google.colab.kernel.invokeFunction('convertToInteractive',\n",
              "                                                    [key], {});\n",
              "        if (!dataTable) return;\n",
              "\n",
              "        const docLinkHtml = 'Like what you see? Visit the ' +\n",
              "          '<a target=\"_blank\" href=https://colab.research.google.com/notebooks/data_table.ipynb>data table notebook</a>'\n",
              "          + ' to learn more about interactive tables.';\n",
              "        element.innerHTML = '';\n",
              "        dataTable['output_type'] = 'display_data';\n",
              "        await google.colab.output.renderOutput(dataTable, element);\n",
              "        const docLink = document.createElement('div');\n",
              "        docLink.innerHTML = docLinkHtml;\n",
              "        element.appendChild(docLink);\n",
              "      }\n",
              "    </script>\n",
              "  </div>\n",
              "\n",
              "\n",
              "<div id=\"df-a2816f08-c8b6-4f3e-b26c-d7cb586dbecb\">\n",
              "  <button class=\"colab-df-quickchart\" onclick=\"quickchart('df-a2816f08-c8b6-4f3e-b26c-d7cb586dbecb')\"\n",
              "            title=\"Suggest charts\"\n",
              "            style=\"display:none;\">\n",
              "\n",
              "<svg xmlns=\"http://www.w3.org/2000/svg\" height=\"24px\"viewBox=\"0 0 24 24\"\n",
              "     width=\"24px\">\n",
              "    <g>\n",
              "        <path d=\"M19 3H5c-1.1 0-2 .9-2 2v14c0 1.1.9 2 2 2h14c1.1 0 2-.9 2-2V5c0-1.1-.9-2-2-2zM9 17H7v-7h2v7zm4 0h-2V7h2v10zm4 0h-2v-4h2v4z\"/>\n",
              "    </g>\n",
              "</svg>\n",
              "  </button>\n",
              "\n",
              "<style>\n",
              "  .colab-df-quickchart {\n",
              "      --bg-color: #E8F0FE;\n",
              "      --fill-color: #1967D2;\n",
              "      --hover-bg-color: #E2EBFA;\n",
              "      --hover-fill-color: #174EA6;\n",
              "      --disabled-fill-color: #AAA;\n",
              "      --disabled-bg-color: #DDD;\n",
              "  }\n",
              "\n",
              "  [theme=dark] .colab-df-quickchart {\n",
              "      --bg-color: #3B4455;\n",
              "      --fill-color: #D2E3FC;\n",
              "      --hover-bg-color: #434B5C;\n",
              "      --hover-fill-color: #FFFFFF;\n",
              "      --disabled-bg-color: #3B4455;\n",
              "      --disabled-fill-color: #666;\n",
              "  }\n",
              "\n",
              "  .colab-df-quickchart {\n",
              "    background-color: var(--bg-color);\n",
              "    border: none;\n",
              "    border-radius: 50%;\n",
              "    cursor: pointer;\n",
              "    display: none;\n",
              "    fill: var(--fill-color);\n",
              "    height: 32px;\n",
              "    padding: 0;\n",
              "    width: 32px;\n",
              "  }\n",
              "\n",
              "  .colab-df-quickchart:hover {\n",
              "    background-color: var(--hover-bg-color);\n",
              "    box-shadow: 0 1px 2px rgba(60, 64, 67, 0.3), 0 1px 3px 1px rgba(60, 64, 67, 0.15);\n",
              "    fill: var(--button-hover-fill-color);\n",
              "  }\n",
              "\n",
              "  .colab-df-quickchart-complete:disabled,\n",
              "  .colab-df-quickchart-complete:disabled:hover {\n",
              "    background-color: var(--disabled-bg-color);\n",
              "    fill: var(--disabled-fill-color);\n",
              "    box-shadow: none;\n",
              "  }\n",
              "\n",
              "  .colab-df-spinner {\n",
              "    border: 2px solid var(--fill-color);\n",
              "    border-color: transparent;\n",
              "    border-bottom-color: var(--fill-color);\n",
              "    animation:\n",
              "      spin 1s steps(1) infinite;\n",
              "  }\n",
              "\n",
              "  @keyframes spin {\n",
              "    0% {\n",
              "      border-color: transparent;\n",
              "      border-bottom-color: var(--fill-color);\n",
              "      border-left-color: var(--fill-color);\n",
              "    }\n",
              "    20% {\n",
              "      border-color: transparent;\n",
              "      border-left-color: var(--fill-color);\n",
              "      border-top-color: var(--fill-color);\n",
              "    }\n",
              "    30% {\n",
              "      border-color: transparent;\n",
              "      border-left-color: var(--fill-color);\n",
              "      border-top-color: var(--fill-color);\n",
              "      border-right-color: var(--fill-color);\n",
              "    }\n",
              "    40% {\n",
              "      border-color: transparent;\n",
              "      border-right-color: var(--fill-color);\n",
              "      border-top-color: var(--fill-color);\n",
              "    }\n",
              "    60% {\n",
              "      border-color: transparent;\n",
              "      border-right-color: var(--fill-color);\n",
              "    }\n",
              "    80% {\n",
              "      border-color: transparent;\n",
              "      border-right-color: var(--fill-color);\n",
              "      border-bottom-color: var(--fill-color);\n",
              "    }\n",
              "    90% {\n",
              "      border-color: transparent;\n",
              "      border-bottom-color: var(--fill-color);\n",
              "    }\n",
              "  }\n",
              "</style>\n",
              "\n",
              "  <script>\n",
              "    async function quickchart(key) {\n",
              "      const quickchartButtonEl =\n",
              "        document.querySelector('#' + key + ' button');\n",
              "      quickchartButtonEl.disabled = true;  // To prevent multiple clicks.\n",
              "      quickchartButtonEl.classList.add('colab-df-spinner');\n",
              "      try {\n",
              "        const charts = await google.colab.kernel.invokeFunction(\n",
              "            'suggestCharts', [key], {});\n",
              "      } catch (error) {\n",
              "        console.error('Error during call to suggestCharts:', error);\n",
              "      }\n",
              "      quickchartButtonEl.classList.remove('colab-df-spinner');\n",
              "      quickchartButtonEl.classList.add('colab-df-quickchart-complete');\n",
              "    }\n",
              "    (() => {\n",
              "      let quickchartButtonEl =\n",
              "        document.querySelector('#df-a2816f08-c8b6-4f3e-b26c-d7cb586dbecb button');\n",
              "      quickchartButtonEl.style.display =\n",
              "        google.colab.kernel.accessAllowed ? 'block' : 'none';\n",
              "    })();\n",
              "  </script>\n",
              "</div>\n",
              "\n",
              "    </div>\n",
              "  </div>\n"
            ],
            "text/plain": [
              "        is_canceled     lead_time  arrival_date_year  \\\n",
              "count  87230.000000  87230.000000       87230.000000   \n",
              "mean       0.275238     79.971019        2016.210352   \n",
              "std        0.446637     86.058683           0.686064   \n",
              "min        0.000000      0.000000        2015.000000   \n",
              "25%        0.000000     11.000000        2016.000000   \n",
              "50%        0.000000     49.000000        2016.000000   \n",
              "75%        1.000000    125.000000        2017.000000   \n",
              "max        1.000000    737.000000        2017.000000   \n",
              "\n",
              "       arrival_date_week_number  arrival_date_day_of_month  \\\n",
              "count              87230.000000               87230.000000   \n",
              "mean                  26.835091                  15.815832   \n",
              "std                   13.669216                   8.835545   \n",
              "min                    1.000000                   1.000000   \n",
              "25%                   16.000000                   8.000000   \n",
              "50%                   27.000000                  16.000000   \n",
              "75%                   37.000000                  23.000000   \n",
              "max                   53.000000                  31.000000   \n",
              "\n",
              "       stays_in_weekend_nights  stays_in_week_nights        adults  \\\n",
              "count             87230.000000          87230.000000  87230.000000   \n",
              "mean                  1.004609              2.623925      1.879365   \n",
              "std                   1.027408              2.039830      0.621724   \n",
              "min                   0.000000              0.000000      0.000000   \n",
              "25%                   0.000000              1.000000      2.000000   \n",
              "50%                   1.000000              2.000000      2.000000   \n",
              "75%                   2.000000              4.000000      2.000000   \n",
              "max                  19.000000             50.000000     55.000000   \n",
              "\n",
              "           children        babies  is_repeated_guest  previous_cancellations  \\\n",
              "count  87230.000000  87230.000000       87230.000000            87230.000000   \n",
              "mean       0.138904      0.010845           0.038565                0.030402   \n",
              "std        0.456264      0.113704           0.192556                0.369344   \n",
              "min        0.000000      0.000000           0.000000                0.000000   \n",
              "25%        0.000000      0.000000           0.000000                0.000000   \n",
              "50%        0.000000      0.000000           0.000000                0.000000   \n",
              "75%        0.000000      0.000000           0.000000                0.000000   \n",
              "max       10.000000     10.000000           1.000000               26.000000   \n",
              "\n",
              "       previous_bookings_not_canceled  booking_changes         agent  \\\n",
              "count                    87230.000000     87230.000000  87230.000000   \n",
              "mean                         0.184054         0.268497     81.089258   \n",
              "std                          1.733033         0.710633    109.977255   \n",
              "min                          0.000000         0.000000      0.000000   \n",
              "25%                          0.000000         0.000000      9.000000   \n",
              "50%                          0.000000         0.000000      9.000000   \n",
              "75%                          0.000000         0.000000    240.000000   \n",
              "max                         72.000000        18.000000    535.000000   \n",
              "\n",
              "            company  days_in_waiting_list           adr  \\\n",
              "count  87230.000000          87230.000000  87230.000000   \n",
              "mean      10.984948              0.746291    106.518031   \n",
              "std       53.956668             10.001001     54.891227   \n",
              "min        0.000000              0.000000     -6.380000   \n",
              "25%        0.000000              0.000000     72.250000   \n",
              "50%        0.000000              0.000000     98.200000   \n",
              "75%        0.000000              0.000000    134.100000   \n",
              "max      543.000000            391.000000   5400.000000   \n",
              "\n",
              "       required_car_parking_spaces  total_of_special_requests  \n",
              "count                 87230.000000               87230.000000  \n",
              "mean                      0.084306                   0.698934  \n",
              "std                       0.281659                   0.832051  \n",
              "min                       0.000000                   0.000000  \n",
              "25%                       0.000000                   0.000000  \n",
              "50%                       0.000000                   0.000000  \n",
              "75%                       0.000000                   1.000000  \n",
              "max                       8.000000                   5.000000  "
            ]
          },
          "execution_count": 25,
          "metadata": {},
          "output_type": "execute_result"
        }
      ],
      "source": [
        "# Dataset Describe\n",
        "df.describe()"
      ]
    },
    {
      "cell_type": "markdown",
      "metadata": {
        "id": "of-HUBgvr7eq"
      },
      "source": [
        "# Variables Description"
      ]
    },
    {
      "cell_type": "markdown",
      "metadata": {
        "id": "MQAMERjbsAUh"
      },
      "source": [
        "'hotel': Name of hotel ( City or Resort) (object)\n",
        "\n",
        "'is_canceled': Whether the booking is canceled or not (0 for no canceled and 1 for canceled) (int64)\n",
        "\n",
        "'lead_time': time (in days) between booking transaction and actual arrival (int64)\n",
        "\n",
        "'arrival_date_year': Year of arrival (int64)\n",
        "\n",
        "'arrival_date_month': month of arrival (object)\n",
        "\n",
        "'arrival_date_week_number': week number of arrival date (int64)\n",
        "\n",
        "'arrival_date_day_of_month': Day of month of arrival date (int64)\n",
        "\n",
        "'stays_in_weekend_nights': No. of weekend nights spent in a hotel (int64)\n",
        "\n",
        "'stays_in_week_nights': No. of weeknights spent in a hotel (int64)\n",
        "\n",
        "'adults': No. of adults in single booking record (int64)\n",
        "\n",
        "'children': No. of children in single booking record. (float64)\n",
        "\n",
        "'babies': No. of babies in single booking record. (int64)\n",
        "\n",
        "'meal': Type of meal chosen BB – Bed & Breakfast , HB – only two meals including breakfast meal , FB – breakfast, lunch, and dinner (object)\n",
        "\n",
        "'country': Country of origin of customers (as mentioned by them) (object)\n",
        "\n",
        "'market_segment': What segment via booking was made and for what purpose. - TA: Travel agents, TO: Tour operators (object)\n",
        "\n",
        "'distribution_channel': Via which medium booking was made.(object)\n",
        "\n",
        "'is_repeated_guest': Whether the customer has made any booking before(0 for No and 1 for Yes) (int64)\n",
        "\n",
        "'previous_cancellations': No. of previous canceled bookings. (int64)\n",
        "\n",
        "'previous_bookings_not_canceled': No. of previous non-canceled bookings. (int64)\n",
        "\n",
        "'reserved_room_type': Room type reserved by a customer. (object)\n",
        "\n",
        "'assigned_room_type': Room type assigned to the customer. (object)\n",
        "\n",
        "'booking_changes': No. of booking changes done by customers (int64)\n",
        "\n",
        "'deposit_type': Type of deposit at the time of making a booking (No deposit/ Refundable/ No refund) (object)\n",
        "\n",
        "'agent': Id of agent for booking (float64)\n",
        "\n",
        "'company': Id of the company making a booking (float64)\n",
        "\n",
        "'days_in_waiting_list': No. of days on waiting list. (int64)\n",
        "\n",
        "'customer_type': Type of customer(Transient, Group, etc.) (object)\n",
        "\n",
        "'adr': Average Daily rate. (float64)\n",
        "\n",
        "'required_car_parking_spaces': No. of car parking asked in booking (int64)\n",
        "\n",
        "'total_of_special_requests': total no. of special request. (int64)\n",
        "\n",
        "'reservation_status': Whether a customer has checked out or canceled,or not showed (object)\n",
        "\n",
        "'reservation_status_date': Date of making reservation status. (object)"
      ]
    },
    {
      "cell_type": "markdown",
      "metadata": {
        "id": "xKw7dEGZsHsZ"
      },
      "source": [
        "# Check Unique Values for each variable."
      ]
    },
    {
      "cell_type": "code",
      "execution_count": null,
      "metadata": {
        "colab": {
          "base_uri": "https://localhost:8080/"
        },
        "id": "sO8pE-tosM_k",
        "outputId": "927cdbde-69fe-4bc2-d940-d0ae8d28b772"
      },
      "outputs": [
        {
          "name": "stdout",
          "output_type": "stream",
          "text": [
            "No. of unique values in hotel is 2\n",
            "No. of unique values in is_canceled is 2\n",
            "No. of unique values in lead_time is 479\n",
            "No. of unique values in arrival_date_year is 3\n",
            "No. of unique values in arrival_date_month is 12\n",
            "No. of unique values in arrival_date_week_number is 53\n",
            "No. of unique values in arrival_date_day_of_month is 31\n",
            "No. of unique values in stays_in_weekend_nights is 17\n",
            "No. of unique values in stays_in_week_nights is 33\n",
            "No. of unique values in adults is 14\n",
            "No. of unique values in children is 6\n",
            "No. of unique values in babies is 5\n",
            "No. of unique values in meal is 5\n",
            "No. of unique values in country is 178\n",
            "No. of unique values in market_segment is 8\n",
            "No. of unique values in distribution_channel is 5\n",
            "No. of unique values in is_repeated_guest is 2\n",
            "No. of unique values in previous_cancellations is 15\n",
            "No. of unique values in previous_bookings_not_canceled is 73\n",
            "No. of unique values in reserved_room_type is 9\n",
            "No. of unique values in assigned_room_type is 11\n",
            "No. of unique values in booking_changes is 19\n",
            "No. of unique values in deposit_type is 3\n",
            "No. of unique values in agent is 334\n",
            "No. of unique values in company is 349\n",
            "No. of unique values in days_in_waiting_list is 127\n",
            "No. of unique values in customer_type is 4\n",
            "No. of unique values in adr is 8866\n",
            "No. of unique values in required_car_parking_spaces is 5\n",
            "No. of unique values in total_of_special_requests is 6\n",
            "No. of unique values in reservation_status is 3\n",
            "No. of unique values in reservation_status_date is 926\n"
          ]
        }
      ],
      "source": [
        "for i in df.columns.tolist():\n",
        "  print(f\"No. of unique values in {i} is {df[i].nunique()}\")"
      ]
    },
    {
      "cell_type": "code",
      "execution_count": null,
      "metadata": {
        "colab": {
          "base_uri": "https://localhost:8080/"
        },
        "id": "IH7l3l8EsU-K",
        "outputId": "008bd24f-50d8-4122-8cd1-9b93bfd86aa5"
      },
      "outputs": [
        {
          "data": {
            "text/plain": [
              "array(['Resort Hotel', 'City Hotel'], dtype=object)"
            ]
          },
          "execution_count": 27,
          "metadata": {},
          "output_type": "execute_result"
        }
      ],
      "source": [
        "# Check Unique Values for each variable.\n",
        "df['hotel'].unique()"
      ]
    },
    {
      "cell_type": "markdown",
      "metadata": {
        "id": "_JLk94JEshl7"
      },
      "source": [
        "There are 2 kinds of Hotels. one is Resort Hotel and other is City Hotel."
      ]
    },
    {
      "cell_type": "code",
      "execution_count": null,
      "metadata": {
        "colab": {
          "base_uri": "https://localhost:8080/"
        },
        "id": "yS2wLtoHsZ3Z",
        "outputId": "8adeebca-6887-4db7-c097-307848fd80f5"
      },
      "outputs": [
        {
          "data": {
            "text/plain": [
              "array([0, 1])"
            ]
          },
          "execution_count": 28,
          "metadata": {},
          "output_type": "execute_result"
        }
      ],
      "source": [
        "df['is_canceled'].unique()"
      ]
    },
    {
      "cell_type": "markdown",
      "metadata": {
        "id": "R3GChwvpsi5J"
      },
      "source": [
        "Whether booking is canceled or not is represented in \"is_canceled\". It consits of 2 value 0 and 1. 0 represents not canceled and 1 represents canceled booking."
      ]
    },
    {
      "cell_type": "code",
      "execution_count": null,
      "metadata": {
        "colab": {
          "base_uri": "https://localhost:8080/"
        },
        "id": "w0HrW3Yzsdda",
        "outputId": "725e31dc-494a-472f-b77e-705afd7830c7"
      },
      "outputs": [
        {
          "data": {
            "text/plain": [
              "array([342, 737,   7,  13,  14,   0,   9,  85,  75,  23,  35,  68,  18,\n",
              "        37,  12,  72, 127,  78,  48,  60,  77,  99, 118,  95,  96,  69,\n",
              "        45,  40,  15,  36,  43,  70,  16, 107,  47, 113,  90,  50,  93,\n",
              "        76,   3,   1,  10,   5,  17,  51,  71,  63,  62, 101,   2,  81,\n",
              "       368, 364, 324,  79,  21, 109, 102,   4,  98,  92,  26,  73, 115,\n",
              "        86,  52,  29,  30,  33,  32,   8, 100,  44,  80,  97,  64,  39,\n",
              "        34,  27,  82,  94, 110, 111,  84,  66, 104,  28, 258, 112,  65,\n",
              "        67,  55,  88,  54, 292,  83, 105, 280, 394,  24, 103, 366, 249,\n",
              "        22,  91,  11, 108, 106,  31,  87,  41, 304, 117,  59,  53,  58,\n",
              "       116,  42, 321,  38,  56,  49, 317,   6,  57,  19,  25, 315, 123,\n",
              "        46,  89,  61, 312, 299, 130,  74, 298, 119,  20, 286, 136, 129,\n",
              "       124, 327, 131, 460, 140, 114, 139, 122, 137, 126, 120, 128, 135,\n",
              "       150, 143, 151, 132, 125, 157, 147, 138, 156, 164, 346, 159, 160,\n",
              "       161, 333, 381, 149, 154, 297, 163, 314, 155, 323, 340, 356, 142,\n",
              "       328, 144, 336, 248, 302, 175, 344, 382, 146, 170, 166, 338, 167,\n",
              "       310, 148, 165, 172, 171, 145, 121, 178, 305, 173, 152, 354, 347,\n",
              "       158, 185, 349, 183, 352, 177, 200, 192, 361, 207, 174, 330, 134,\n",
              "       350, 334, 283, 153, 197, 133, 241, 193, 235, 194, 261, 260, 216,\n",
              "       169, 209, 238, 215, 141, 189, 187, 223, 284, 214, 202, 211, 168,\n",
              "       230, 203, 188, 232, 709, 219, 162, 196, 190, 259, 228, 176, 250,\n",
              "       201, 186, 199, 180, 206, 205, 224, 222, 182, 210, 275, 212, 229,\n",
              "       218, 208, 191, 181, 179, 246, 255, 226, 288, 253, 252, 262, 236,\n",
              "       256, 234, 254, 468, 213, 237, 198, 195, 239, 263, 265, 274, 217,\n",
              "       220, 307, 221, 233, 257, 227, 276, 225, 264, 311, 277, 204, 290,\n",
              "       266, 270, 294, 319, 282, 251, 322, 291, 269, 240, 271, 184, 231,\n",
              "       268, 247, 273, 300, 301, 267, 244, 306, 293, 309, 272, 242, 295,\n",
              "       285, 243, 308, 398, 303, 245, 424, 279, 331, 281, 339, 434, 357,\n",
              "       325, 329, 278, 332, 343, 345, 360, 348, 367, 353, 373, 374, 406,\n",
              "       400, 326, 379, 399, 316, 341, 320, 385, 355, 363, 358, 296, 422,\n",
              "       390, 335, 370, 376, 375, 397, 289, 542, 403, 383, 384, 359, 393,\n",
              "       337, 362, 365, 435, 386, 378, 313, 351, 287, 471, 462, 411, 450,\n",
              "       318, 372, 371, 454, 532, 445, 389, 388, 407, 443, 437, 451, 391,\n",
              "       405, 412, 419, 420, 426, 433, 440, 429, 418, 447, 461, 605, 457,\n",
              "       475, 464, 482, 626, 489, 496, 503, 510, 517, 524, 531, 538, 545,\n",
              "       552, 559, 566, 573, 580, 587, 594, 601, 608, 615, 622, 629, 396,\n",
              "       410, 395, 423, 408, 409, 448, 465, 387, 414, 476, 479, 467, 490,\n",
              "       493, 478, 504, 507, 458, 518, 521, 377, 444, 380, 463])"
            ]
          },
          "execution_count": 29,
          "metadata": {},
          "output_type": "execute_result"
        }
      ],
      "source": [
        "df['lead_time'].unique()"
      ]
    },
    {
      "cell_type": "code",
      "execution_count": null,
      "metadata": {
        "colab": {
          "base_uri": "https://localhost:8080/"
        },
        "id": "grkvtO8T7D-X",
        "outputId": "a7fe5200-9012-4c6f-fde8-a89637269506"
      },
      "outputs": [
        {
          "data": {
            "text/plain": [
              "array([2015, 2016, 2017])"
            ]
          },
          "execution_count": 30,
          "metadata": {},
          "output_type": "execute_result"
        }
      ],
      "source": [
        "df['arrival_date_year'].unique()"
      ]
    },
    {
      "cell_type": "markdown",
      "metadata": {
        "id": "JRahgIsf7dW0"
      },
      "source": [
        "'arrival_date_year' variable consists of 3 values - 2015, 2016 and 2017."
      ]
    },
    {
      "cell_type": "code",
      "execution_count": null,
      "metadata": {
        "colab": {
          "base_uri": "https://localhost:8080/"
        },
        "id": "Ys9U6Ig97WKs",
        "outputId": "558e8a63-337c-4fe5-cfec-1b41751188be"
      },
      "outputs": [
        {
          "data": {
            "text/plain": [
              "array(['July', 'August', 'September', 'October', 'November', 'December',\n",
              "       'January', 'February', 'March', 'April', 'May', 'June'],\n",
              "      dtype=object)"
            ]
          },
          "execution_count": 31,
          "metadata": {},
          "output_type": "execute_result"
        }
      ],
      "source": [
        "df['arrival_date_month'].unique()"
      ]
    },
    {
      "cell_type": "markdown",
      "metadata": {
        "id": "QFC6ktoo7laO"
      },
      "source": [
        "'arrival_date_month' variable consists of 12 values. Customers arrive through out the year."
      ]
    },
    {
      "cell_type": "code",
      "execution_count": null,
      "metadata": {
        "colab": {
          "base_uri": "https://localhost:8080/"
        },
        "id": "tQbFRQWJ7mkT",
        "outputId": "b5c1d6b5-4627-4877-8457-17efd5948ffa"
      },
      "outputs": [
        {
          "data": {
            "text/plain": [
              "array([27, 28, 29, 30, 31, 32, 33, 34, 35, 36, 37, 38, 39, 40, 41, 42, 43,\n",
              "       44, 45, 46, 47, 48, 49, 50, 51, 52, 53,  1,  2,  3,  4,  5,  6,  7,\n",
              "        8,  9, 10, 11, 12, 13, 14, 15, 16, 17, 18, 19, 20, 21, 22, 23, 24,\n",
              "       25, 26])"
            ]
          },
          "execution_count": 32,
          "metadata": {},
          "output_type": "execute_result"
        }
      ],
      "source": [
        "df['arrival_date_week_number'].unique()"
      ]
    },
    {
      "cell_type": "code",
      "execution_count": null,
      "metadata": {
        "colab": {
          "base_uri": "https://localhost:8080/"
        },
        "id": "ouxVoZfa7qHT",
        "outputId": "4c2476d9-c010-4fa4-f432-c11298248314"
      },
      "outputs": [
        {
          "data": {
            "text/plain": [
              "array([ 1,  2,  3,  4,  5,  6,  7,  8,  9, 10, 11, 12, 13, 14, 15, 16, 17,\n",
              "       18, 19, 20, 21, 22, 23, 24, 25, 26, 27, 28, 29, 30, 31])"
            ]
          },
          "execution_count": 33,
          "metadata": {},
          "output_type": "execute_result"
        }
      ],
      "source": [
        "df['arrival_date_day_of_month'].unique()"
      ]
    },
    {
      "cell_type": "code",
      "execution_count": null,
      "metadata": {
        "colab": {
          "base_uri": "https://localhost:8080/"
        },
        "id": "jtoxdnoP7tjF",
        "outputId": "e339fade-3bfc-466d-feae-4f0ad668fefd"
      },
      "outputs": [
        {
          "data": {
            "text/plain": [
              "array([ 0,  1,  2,  4,  3,  6, 13,  8,  5,  7, 12,  9, 16, 18, 19, 10, 14])"
            ]
          },
          "execution_count": 34,
          "metadata": {},
          "output_type": "execute_result"
        }
      ],
      "source": [
        "df['stays_in_weekend_nights'].unique()"
      ]
    },
    {
      "cell_type": "code",
      "execution_count": null,
      "metadata": {
        "colab": {
          "base_uri": "https://localhost:8080/"
        },
        "id": "4ZeRRXuV89vl",
        "outputId": "62a16d8e-93ab-44ef-9fb9-093daf051cca"
      },
      "outputs": [
        {
          "data": {
            "text/plain": [
              "array([ 2,  1,  3,  4, 40, 26, 50, 27, 55, 20,  6,  5, 10,  0])"
            ]
          },
          "execution_count": 35,
          "metadata": {},
          "output_type": "execute_result"
        }
      ],
      "source": [
        "df['adults'].unique()"
      ]
    },
    {
      "cell_type": "code",
      "execution_count": null,
      "metadata": {
        "colab": {
          "base_uri": "https://localhost:8080/"
        },
        "id": "RFG-fqIN9w8b",
        "outputId": "48c4ab9c-7057-43b2-816e-f6852e750d23"
      },
      "outputs": [
        {
          "data": {
            "text/plain": [
              "array([ 0.        ,  1.        ,  2.        , 10.        ,  3.        ,\n",
              "        0.13863969])"
            ]
          },
          "execution_count": 36,
          "metadata": {},
          "output_type": "execute_result"
        }
      ],
      "source": [
        "df['children'].unique()"
      ]
    },
    {
      "cell_type": "code",
      "execution_count": null,
      "metadata": {
        "colab": {
          "base_uri": "https://localhost:8080/"
        },
        "id": "nGDCIJBb93LT",
        "outputId": "ee299580-795a-42e7-e458-4602efa5c599"
      },
      "outputs": [
        {
          "data": {
            "text/plain": [
              "array([ 0,  1,  2, 10,  9])"
            ]
          },
          "execution_count": 37,
          "metadata": {},
          "output_type": "execute_result"
        }
      ],
      "source": [
        "df['babies'].unique()"
      ]
    },
    {
      "cell_type": "code",
      "execution_count": null,
      "metadata": {
        "colab": {
          "base_uri": "https://localhost:8080/"
        },
        "id": "TZcb61_x9_qL",
        "outputId": "5613ebb1-0f1c-4531-92a8-1b885b73331a"
      },
      "outputs": [
        {
          "data": {
            "text/plain": [
              "array(['BB', 'FB', 'HB', 'SC', 'Undefined'], dtype=object)"
            ]
          },
          "execution_count": 38,
          "metadata": {},
          "output_type": "execute_result"
        }
      ],
      "source": [
        "df['meal'].unique()"
      ]
    },
    {
      "cell_type": "code",
      "execution_count": null,
      "metadata": {
        "colab": {
          "base_uri": "https://localhost:8080/"
        },
        "id": "ZlmdeLwG-C_D",
        "outputId": "eb4f29c5-db83-425a-cf36-7b51d15d5e8e"
      },
      "outputs": [
        {
          "data": {
            "text/plain": [
              "array(['PRT', 'GBR', 'USA', 'ESP', 'IRL', 'FRA', 'others', 'ROU', 'NOR',\n",
              "       'OMN', 'ARG', 'POL', 'DEU', 'BEL', 'CHE', 'CN', 'GRC', 'ITA',\n",
              "       'NLD', 'DNK', 'RUS', 'SWE', 'AUS', 'EST', 'CZE', 'BRA', 'FIN',\n",
              "       'MOZ', 'BWA', 'LUX', 'SVN', 'ALB', 'IND', 'CHN', 'MEX', 'MAR',\n",
              "       'UKR', 'SMR', 'LVA', 'PRI', 'SRB', 'CHL', 'AUT', 'BLR', 'LTU',\n",
              "       'TUR', 'ZAF', 'AGO', 'ISR', 'CYM', 'ZMB', 'CPV', 'ZWE', 'DZA',\n",
              "       'KOR', 'CRI', 'HUN', 'ARE', 'TUN', 'JAM', 'HRV', 'HKG', 'IRN',\n",
              "       'GEO', 'AND', 'GIB', 'URY', 'JEY', 'CAF', 'CYP', 'COL', 'GGY',\n",
              "       'KWT', 'NGA', 'MDV', 'VEN', 'SVK', 'FJI', 'KAZ', 'PAK', 'IDN',\n",
              "       'LBN', 'PHL', 'SEN', 'SYC', 'AZE', 'BHR', 'NZL', 'THA', 'DOM',\n",
              "       'MKD', 'MYS', 'ARM', 'JPN', 'LKA', 'CUB', 'CMR', 'BIH', 'MUS',\n",
              "       'COM', 'SUR', 'UGA', 'BGR', 'CIV', 'JOR', 'SYR', 'SGP', 'BDI',\n",
              "       'SAU', 'VNM', 'PLW', 'QAT', 'EGY', 'PER', 'MLT', 'MWI', 'ECU',\n",
              "       'MDG', 'ISL', 'UZB', 'NPL', 'BHS', 'MAC', 'TGO', 'TWN', 'DJI',\n",
              "       'STP', 'KNA', 'ETH', 'IRQ', 'HND', 'RWA', 'KHM', 'MCO', 'BGD',\n",
              "       'IMN', 'TJK', 'NIC', 'BEN', 'VGB', 'TZA', 'GAB', 'GHA', 'TMP',\n",
              "       'GLP', 'KEN', 'LIE', 'GNB', 'MNE', 'UMI', 'MYT', 'FRO', 'MMR',\n",
              "       'PAN', 'BFA', 'LBY', 'MLI', 'NAM', 'BOL', 'PRY', 'BRB', 'ABW',\n",
              "       'AIA', 'SLV', 'DMA', 'PYF', 'GUY', 'LCA', 'ATA', 'GTM', 'ASM',\n",
              "       'MRT', 'NCL', 'KIR', 'SDN', 'ATF', 'SLE', 'LAO'], dtype=object)"
            ]
          },
          "execution_count": 39,
          "metadata": {},
          "output_type": "execute_result"
        }
      ],
      "source": [
        "df['country'].unique()"
      ]
    },
    {
      "cell_type": "code",
      "execution_count": null,
      "metadata": {
        "colab": {
          "base_uri": "https://localhost:8080/"
        },
        "id": "4AzsOepJ-GwU",
        "outputId": "04df4f2d-a219-403c-c0c1-6e1ee78cd862"
      },
      "outputs": [
        {
          "data": {
            "text/plain": [
              "array(['Direct', 'Corporate', 'Online TA', 'Offline TA/TO',\n",
              "       'Complementary', 'Groups', 'Undefined', 'Aviation'], dtype=object)"
            ]
          },
          "execution_count": 40,
          "metadata": {},
          "output_type": "execute_result"
        }
      ],
      "source": [
        "df['market_segment'].unique()"
      ]
    },
    {
      "cell_type": "code",
      "execution_count": null,
      "metadata": {
        "colab": {
          "base_uri": "https://localhost:8080/"
        },
        "id": "TCG7VKns-JpU",
        "outputId": "bebd98f4-8f59-4965-d0f6-6343a9296aa9"
      },
      "outputs": [
        {
          "data": {
            "text/plain": [
              "array(['Direct', 'Corporate', 'TA/TO', 'Undefined', 'GDS'], dtype=object)"
            ]
          },
          "execution_count": 41,
          "metadata": {},
          "output_type": "execute_result"
        }
      ],
      "source": [
        "df['distribution_channel'].unique()"
      ]
    },
    {
      "cell_type": "code",
      "execution_count": null,
      "metadata": {
        "colab": {
          "base_uri": "https://localhost:8080/"
        },
        "id": "dc55_wln-LWU",
        "outputId": "a5f9b9e8-6a45-498b-d90b-1a58542405c0"
      },
      "outputs": [
        {
          "data": {
            "text/plain": [
              "array([0, 1])"
            ]
          },
          "execution_count": 42,
          "metadata": {},
          "output_type": "execute_result"
        }
      ],
      "source": [
        "df['is_repeated_guest'].unique()"
      ]
    },
    {
      "cell_type": "code",
      "execution_count": null,
      "metadata": {
        "colab": {
          "base_uri": "https://localhost:8080/"
        },
        "id": "iuG6LH6A-Ol0",
        "outputId": "4a92f653-d38d-4653-c261-5712ec840ad0"
      },
      "outputs": [
        {
          "data": {
            "text/plain": [
              "array([ 0,  1,  2,  3, 26, 25, 14,  4, 24, 19,  5, 21,  6, 13, 11])"
            ]
          },
          "execution_count": 43,
          "metadata": {},
          "output_type": "execute_result"
        }
      ],
      "source": [
        "df['previous_cancellations'].unique()"
      ]
    },
    {
      "cell_type": "code",
      "execution_count": null,
      "metadata": {
        "colab": {
          "base_uri": "https://localhost:8080/"
        },
        "id": "jdovneAP-R76",
        "outputId": "52064bfd-9010-497c-c284-2aef62754c4f"
      },
      "outputs": [
        {
          "data": {
            "text/plain": [
              "array([ 0,  1,  2,  3,  4,  5,  6,  7,  8,  9, 10, 11, 12, 13, 14, 15, 16,\n",
              "       17, 18, 20, 21, 22, 23, 24, 25, 27, 28, 29, 30, 19, 26, 31, 32, 33,\n",
              "       34, 35, 36, 37, 38, 39, 40, 41, 42, 43, 44, 45, 46, 47, 48, 49, 50,\n",
              "       51, 52, 53, 54, 55, 56, 57, 58, 59, 60, 61, 62, 63, 64, 65, 66, 67,\n",
              "       68, 69, 70, 71, 72])"
            ]
          },
          "execution_count": 44,
          "metadata": {},
          "output_type": "execute_result"
        }
      ],
      "source": [
        "df['previous_bookings_not_canceled'].unique()"
      ]
    },
    {
      "cell_type": "code",
      "execution_count": null,
      "metadata": {
        "colab": {
          "base_uri": "https://localhost:8080/"
        },
        "id": "mD07Krax-V8c",
        "outputId": "f10203d6-fd9b-4cb9-ffc7-c73b16d8bfd5"
      },
      "outputs": [
        {
          "data": {
            "text/plain": [
              "array(['C', 'A', 'D', 'E', 'G', 'F', 'H', 'L', 'B'], dtype=object)"
            ]
          },
          "execution_count": 45,
          "metadata": {},
          "output_type": "execute_result"
        }
      ],
      "source": [
        "df['reserved_room_type'].unique()"
      ]
    },
    {
      "cell_type": "code",
      "execution_count": null,
      "metadata": {
        "colab": {
          "base_uri": "https://localhost:8080/"
        },
        "id": "x--Gd3Iu-aMj",
        "outputId": "4a9dde17-3914-404e-acf9-3d321933fdaf"
      },
      "outputs": [
        {
          "data": {
            "text/plain": [
              "array(['C', 'A', 'D', 'E', 'G', 'F', 'I', 'B', 'H', 'L', 'K'],\n",
              "      dtype=object)"
            ]
          },
          "execution_count": 46,
          "metadata": {},
          "output_type": "execute_result"
        }
      ],
      "source": [
        "df['assigned_room_type'].unique()"
      ]
    },
    {
      "cell_type": "code",
      "execution_count": null,
      "metadata": {
        "colab": {
          "base_uri": "https://localhost:8080/"
        },
        "id": "w8bwcWhH-edL",
        "outputId": "0d91a8c0-e419-448a-e33d-74b673a92508"
      },
      "outputs": [
        {
          "data": {
            "text/plain": [
              "array([ 3,  4,  0,  1,  2,  5, 17,  6,  8,  7, 10, 16,  9, 13, 12, 14, 15,\n",
              "       18, 11])"
            ]
          },
          "execution_count": 47,
          "metadata": {},
          "output_type": "execute_result"
        }
      ],
      "source": [
        "df['booking_changes'].unique()"
      ]
    },
    {
      "cell_type": "code",
      "execution_count": null,
      "metadata": {
        "colab": {
          "base_uri": "https://localhost:8080/"
        },
        "id": "DmrLvDVr-hEK",
        "outputId": "dd6bc5b4-e1bc-499b-ec83-e29a7d7f10bb"
      },
      "outputs": [
        {
          "data": {
            "text/plain": [
              "array(['No Deposit', 'Refundable', 'Non Refund'], dtype=object)"
            ]
          },
          "execution_count": 48,
          "metadata": {},
          "output_type": "execute_result"
        }
      ],
      "source": [
        "df['deposit_type'].unique()"
      ]
    },
    {
      "cell_type": "code",
      "execution_count": null,
      "metadata": {
        "colab": {
          "base_uri": "https://localhost:8080/"
        },
        "id": "hKztFm5y-kNu",
        "outputId": "463a7bf9-c086-4be9-f547-bd3a42b924e2"
      },
      "outputs": [
        {
          "data": {
            "text/plain": [
              "array([  0., 304., 240., 303.,  15., 241.,   8., 250., 115.,   5., 175.,\n",
              "       134., 156., 243., 242.,   3., 105.,  40., 147., 306., 184.,  96.,\n",
              "         2., 127.,  95., 146.,   9., 177.,   6., 143., 244., 149., 167.,\n",
              "       300., 171., 305.,  67., 196., 152., 142., 261., 104.,  36.,  26.,\n",
              "        29., 258., 110.,  71., 181.,  88., 251., 275.,  69., 248., 208.,\n",
              "       256., 314., 126., 281., 273., 253., 185., 330., 334., 328., 326.,\n",
              "       321., 324., 313.,  38., 155.,  68., 335., 308., 332.,  94., 348.,\n",
              "       310., 339., 375.,  66., 327., 387., 298.,  91., 245., 385., 257.,\n",
              "       393., 168., 405., 249., 315.,  75., 128., 307.,  11., 436.,   1.,\n",
              "       201., 183., 223., 368., 336., 291., 464., 411., 481.,  10., 154.,\n",
              "       468., 410., 390., 440., 495., 492., 493., 434.,  57., 531., 420.,\n",
              "       483., 526., 472., 429.,  16., 446.,  34.,  78., 139., 252., 270.,\n",
              "        47., 114., 301., 193., 182., 135., 350., 195., 352., 355., 159.,\n",
              "       363., 384., 360., 331., 367.,  64., 406., 163., 414., 333., 427.,\n",
              "       431., 430., 426., 438., 433., 418., 441., 282., 432.,  72., 450.,\n",
              "       180., 454., 455.,  59., 451., 254., 358., 469., 165., 467., 510.,\n",
              "       337., 476., 502., 527., 479., 508., 535., 302., 497., 187.,  13.,\n",
              "         7.,  27.,  14.,  22.,  17.,  28.,  42.,  20.,  19.,  45.,  37.,\n",
              "        61.,  39.,  21.,  24.,  41.,  50.,  30.,  54.,  52.,  12.,  44.,\n",
              "        31.,  83.,  32.,  63.,  60.,  55.,  56.,  89.,  87., 118.,  86.,\n",
              "        85., 210., 214., 129., 179., 138., 174., 170., 153.,  93., 151.,\n",
              "       119.,  35., 173.,  58.,  53., 133.,  79., 235., 192., 191., 236.,\n",
              "       162., 215., 157., 287., 132., 234.,  98.,  77., 103., 107., 262.,\n",
              "       220., 121., 205., 378.,  23., 296., 290., 229.,  33., 286., 276.,\n",
              "       425., 484., 323., 403., 219., 394., 509., 111., 423.,   4.,  70.,\n",
              "        82.,  81.,  74.,  92.,  99.,  90., 112., 117., 106., 148., 158.,\n",
              "       144., 211., 213., 216., 232., 150., 267., 227., 247., 278., 280.,\n",
              "       285., 289., 269., 295., 265., 288., 122., 294., 325., 341., 344.,\n",
              "       346., 359., 283., 364., 370., 371.,  25., 141., 391., 397., 416.,\n",
              "       404., 299., 197.,  73., 354., 444., 408., 461., 388., 453., 459.,\n",
              "       474., 475., 480., 449.])"
            ]
          },
          "execution_count": 49,
          "metadata": {},
          "output_type": "execute_result"
        }
      ],
      "source": [
        "df['agent'].unique()"
      ]
    },
    {
      "cell_type": "code",
      "execution_count": null,
      "metadata": {
        "colab": {
          "base_uri": "https://localhost:8080/"
        },
        "id": "DIyiaFph-8Ja",
        "outputId": "18cd4a37-8899-4b81-caf6-b1ddd7c5000b"
      },
      "outputs": [
        {
          "data": {
            "text/plain": [
              "array([  0., 110., 113., 270., 178., 240., 154., 144., 307., 268.,  59.,\n",
              "       204., 312., 318.,  94., 274., 174., 195., 223., 317., 281., 118.,\n",
              "        53., 286.,  12.,  47., 324., 342., 373., 371.,  86.,  82., 218.,\n",
              "        88.,  31., 397., 392., 405., 331., 367.,  20.,  83., 416.,  51.,\n",
              "       395., 102.,  34.,  84., 360., 394., 457., 382., 461., 478., 112.,\n",
              "       486., 421.,   9., 308., 135., 224., 504., 269., 356., 498., 390.,\n",
              "       513., 203., 263., 477., 521., 169., 515., 445., 337., 251., 428.,\n",
              "       292., 388., 130., 250., 355., 254., 543., 531., 528.,  62., 120.,\n",
              "        42.,  81., 116., 530., 103.,  39.,  16.,  92.,  61., 501., 165.,\n",
              "       291., 290.,  43., 325., 192., 108., 200., 465., 287., 297., 490.,\n",
              "       482., 207., 282., 437., 225., 329., 272.,  28.,  77., 338.,  72.,\n",
              "       246., 319., 146., 159., 380., 323., 511., 407., 278.,  80., 403.,\n",
              "       399.,  14., 137., 343., 346., 347., 349., 289., 351., 353.,  54.,\n",
              "        99., 358., 361., 362., 366., 372., 365., 277., 109., 377., 379.,\n",
              "        22., 378., 330., 364., 401., 232., 255., 384., 167., 212., 514.,\n",
              "       391., 400., 376., 402., 396., 302., 398.,   6., 370., 369., 409.,\n",
              "       168., 104., 408., 413., 148.,  10., 333., 419., 415., 424., 425.,\n",
              "       423., 422., 435., 439., 442., 448., 443., 454., 444.,  52., 459.,\n",
              "       458., 456., 460., 447., 470., 466., 484., 184., 485.,  32., 487.,\n",
              "       491., 494., 193., 516., 496., 499.,  29.,  78., 520., 507., 506.,\n",
              "       512., 126.,  64., 242., 518., 523., 539., 534., 436., 525., 541.,\n",
              "        40., 455., 410.,  45.,  38.,  49.,  48.,  67.,  68.,  65.,  91.,\n",
              "        37.,   8., 179., 209., 219., 221., 227., 153., 186., 253., 202.,\n",
              "       216., 275., 233., 280., 309., 321.,  93., 316.,  85., 107., 350.,\n",
              "       334., 348., 150.,  73., 385., 418., 197., 450., 452., 115.,  46.,\n",
              "        76.,  96., 100., 105., 101., 122.,  11., 139., 142., 127., 143.,\n",
              "       140., 149., 163., 160., 180., 238., 183., 222., 185., 217., 215.,\n",
              "       213., 237., 230., 234.,  35., 245., 158., 258., 259., 260., 411.,\n",
              "       257., 271.,  18., 106., 210., 273.,  71., 284., 301., 305., 293.,\n",
              "       264., 311., 304., 313., 320., 332., 341., 352., 243., 383., 368.,\n",
              "       393., 132., 220., 412., 420., 426., 417., 429., 433., 446., 357.,\n",
              "       479., 483., 489., 229., 481., 497., 451., 492.])"
            ]
          },
          "execution_count": 50,
          "metadata": {},
          "output_type": "execute_result"
        }
      ],
      "source": [
        "df['company'].unique()"
      ]
    },
    {
      "cell_type": "code",
      "execution_count": null,
      "metadata": {
        "colab": {
          "base_uri": "https://localhost:8080/"
        },
        "id": "NJo2XI7C_NXM",
        "outputId": "bb904966-24b1-4223-9432-e72556505177"
      },
      "outputs": [
        {
          "data": {
            "text/plain": [
              "array([  0,  50,  47,  65, 122,  75, 101, 150, 125,  14,  60,  34, 100,\n",
              "        22, 121,  61,  39,   5,   1,   8, 107,  43,  52,   2,  11, 142,\n",
              "       116,  13,  44,  97,  83,   4, 113,  18,  20, 185,  93, 109,   6,\n",
              "        37, 105, 154,  64,  99,  38,  48,  33,  77,  21,  80,  59,  40,\n",
              "        58,  89,  53,  49,  69,  87,  91,  57, 111,  79,  98,  85,  63,\n",
              "        15,   3,  41, 224,  31,  56, 187, 176,  71,  55,  96, 236, 259,\n",
              "       207, 215, 160, 120,  30,  32,  27,  62,  24, 108, 147, 379,  70,\n",
              "        35, 178, 330, 223, 174, 162, 391,  68, 193,  10,  76,  16,  28,\n",
              "         9, 165,  17,  25,  46,   7,  84, 175, 183,  23, 117,  12,  54,\n",
              "        26,  73,  45,  19,  42,  72,  81,  74, 167,  36])"
            ]
          },
          "execution_count": 51,
          "metadata": {},
          "output_type": "execute_result"
        }
      ],
      "source": [
        "df['days_in_waiting_list'].unique()"
      ]
    },
    {
      "cell_type": "code",
      "execution_count": null,
      "metadata": {
        "colab": {
          "base_uri": "https://localhost:8080/"
        },
        "id": "dlhPpqGY_3Hf",
        "outputId": "a67558f3-de53-437b-a81e-073689b50da3"
      },
      "outputs": [
        {
          "data": {
            "text/plain": [
              "array(['Transient', 'Contract', 'Transient-Party', 'Group'], dtype=object)"
            ]
          },
          "execution_count": 52,
          "metadata": {},
          "output_type": "execute_result"
        }
      ],
      "source": [
        "df['customer_type'].unique()"
      ]
    },
    {
      "cell_type": "code",
      "execution_count": null,
      "metadata": {
        "colab": {
          "base_uri": "https://localhost:8080/"
        },
        "id": "Q6Thz6zl_7m_",
        "outputId": "16debb43-4d73-4ac3-ebcd-26ea72cc4625"
      },
      "outputs": [
        {
          "data": {
            "text/plain": [
              "array([  0.  ,  75.  ,  98.  , ..., 266.75, 209.25, 157.71])"
            ]
          },
          "execution_count": 53,
          "metadata": {},
          "output_type": "execute_result"
        }
      ],
      "source": [
        "df['adr'].unique()"
      ]
    },
    {
      "cell_type": "code",
      "execution_count": null,
      "metadata": {
        "colab": {
          "base_uri": "https://localhost:8080/"
        },
        "id": "ZNx9QK_-__Rn",
        "outputId": "32719884-23df-4f3a-ea52-512f3619ccad"
      },
      "outputs": [
        {
          "data": {
            "text/plain": [
              "array([0, 1, 2, 8, 3])"
            ]
          },
          "execution_count": 54,
          "metadata": {},
          "output_type": "execute_result"
        }
      ],
      "source": [
        "df['required_car_parking_spaces'].unique()"
      ]
    },
    {
      "cell_type": "code",
      "execution_count": null,
      "metadata": {
        "colab": {
          "base_uri": "https://localhost:8080/"
        },
        "id": "UDIjGZm1ADIG",
        "outputId": "d354cbe6-8e65-4754-b480-74601d6983a0"
      },
      "outputs": [
        {
          "data": {
            "text/plain": [
              "array([0, 1, 3, 2, 4, 5])"
            ]
          },
          "execution_count": 55,
          "metadata": {},
          "output_type": "execute_result"
        }
      ],
      "source": [
        "df['total_of_special_requests'].unique()"
      ]
    },
    {
      "cell_type": "code",
      "execution_count": null,
      "metadata": {
        "colab": {
          "base_uri": "https://localhost:8080/"
        },
        "id": "iRBOCY0yAYjR",
        "outputId": "2c14caff-0d1f-4d10-cf2c-4a3725368239"
      },
      "outputs": [
        {
          "data": {
            "text/plain": [
              "array(['Check-Out', 'Canceled', 'No-Show'], dtype=object)"
            ]
          },
          "execution_count": 56,
          "metadata": {},
          "output_type": "execute_result"
        }
      ],
      "source": [
        "df['reservation_status'].unique()"
      ]
    },
    {
      "cell_type": "code",
      "execution_count": null,
      "metadata": {
        "colab": {
          "base_uri": "https://localhost:8080/"
        },
        "id": "augsRPBHAcGJ",
        "outputId": "a80186a7-e2e2-45c8-a0b3-27a83fae27f1"
      },
      "outputs": [
        {
          "data": {
            "text/plain": [
              "array(['2015-07-01', '2015-07-02', '2015-07-03', '2015-05-06',\n",
              "       '2015-04-22', '2015-06-23', '2015-07-05', '2015-07-06',\n",
              "       '2015-07-07', '2015-07-08', '2015-05-11', '2015-07-15',\n",
              "       '2015-07-16', '2015-05-29', '2015-05-19', '2015-06-19',\n",
              "       '2015-05-23', '2015-05-18', '2015-07-09', '2015-06-02',\n",
              "       '2015-07-13', '2015-07-04', '2015-06-29', '2015-06-16',\n",
              "       '2015-06-18', '2015-06-12', '2015-06-09', '2015-05-26',\n",
              "       '2015-07-11', '2015-07-12', '2015-07-17', '2015-04-15',\n",
              "       '2015-05-13', '2015-07-10', '2015-05-20', '2015-05-12',\n",
              "       '2015-07-14', '2015-06-17', '2015-05-01', '2015-03-30',\n",
              "       '2015-07-19', '2015-06-03', '2015-06-26', '2015-05-14',\n",
              "       '2015-07-20', '2015-05-07', '2015-05-28', '2015-04-13',\n",
              "       '2015-03-25', '2015-07-21', '2015-06-27', '2015-07-18',\n",
              "       '2015-07-23', '2015-06-08', '2015-06-22', '2015-06-24',\n",
              "       '2015-03-05', '2015-06-01', '2015-04-24', '2015-07-22',\n",
              "       '2015-05-27', '2015-04-06', '2015-04-11', '2015-07-25',\n",
              "       '2015-07-28', '2015-07-29', '2015-06-25', '2015-07-24',\n",
              "       '2015-06-05', '2015-06-30', '2015-06-13', '2015-06-11',\n",
              "       '2015-07-30', '2015-07-27', '2015-04-29', '2015-06-04',\n",
              "       '2015-07-26', '2015-08-01', '2015-08-02', '2015-06-15',\n",
              "       '2015-04-23', '2015-07-31', '2015-05-25', '2015-08-03',\n",
              "       '2015-04-17', '2015-08-04', '2015-08-06', '2015-05-15',\n",
              "       '2015-05-09', '2015-03-17', '2015-05-22', '2015-08-07',\n",
              "       '2015-04-04', '2015-08-05', '2015-08-08', '2015-08-10',\n",
              "       '2015-05-04', '2015-06-06', '2015-08-09', '2015-08-15',\n",
              "       '2015-08-11', '2015-03-28', '2015-08-14', '2015-08-12',\n",
              "       '2015-08-16', '2015-05-16', '2015-08-21', '2015-08-13',\n",
              "       '2015-08-17', '2015-04-20', '2015-08-18', '2015-08-23',\n",
              "       '2015-08-22', '2015-08-19', '2015-08-20', '2015-08-29',\n",
              "       '2015-03-31', '2015-05-30', '2015-08-25', '2015-04-14',\n",
              "       '2015-08-24', '2015-03-24', '2015-05-21', '2015-08-28',\n",
              "       '2015-08-26', '2015-08-27', '2015-08-30', '2015-08-31',\n",
              "       '2015-09-06', '2015-09-03', '2015-09-04', '2015-09-02',\n",
              "       '2015-09-01', '2015-09-05', '2015-06-20', '2015-09-07',\n",
              "       '2015-09-10', '2015-09-11', '2015-09-08', '2015-09-09',\n",
              "       '2015-09-13', '2015-09-15', '2015-04-10', '2015-01-02',\n",
              "       '2014-11-18', '2015-09-12', '2015-09-17', '2015-09-14',\n",
              "       '2015-04-07', '2015-09-19', '2015-09-16', '2015-09-20',\n",
              "       '2015-01-18', '2015-10-23', '2015-01-22', '2015-01-01',\n",
              "       '2015-09-22', '2015-09-24', '2015-09-18', '2015-09-21',\n",
              "       '2015-09-30', '2015-09-25', '2015-09-27', '2015-09-28',\n",
              "       '2015-10-12', '2015-09-29', '2015-09-23', '2015-10-01',\n",
              "       '2015-09-26', '2015-04-18', '2015-10-02', '2015-10-04',\n",
              "       '2015-10-08', '2015-10-03', '2015-10-07', '2015-10-09',\n",
              "       '2015-10-11', '2015-10-05', '2015-10-06', '2015-10-10',\n",
              "       '2015-10-14', '2015-10-15', '2015-10-18', '2015-10-13',\n",
              "       '2015-10-20', '2015-10-19', '2015-10-31', '2015-10-16',\n",
              "       '2015-10-21', '2015-10-22', '2015-10-17', '2015-10-24',\n",
              "       '2015-10-25', '2015-10-28', '2015-10-27', '2015-10-26',\n",
              "       '2015-10-30', '2015-11-05', '2015-10-29', '2015-11-03',\n",
              "       '2015-11-07', '2015-11-04', '2015-11-01', '2015-11-02',\n",
              "       '2015-11-17', '2015-11-06', '2015-11-10', '2015-11-08',\n",
              "       '2015-11-09', '2015-11-15', '2015-11-16', '2015-11-11',\n",
              "       '2015-11-12', '2015-11-14', '2015-11-13', '2015-11-18',\n",
              "       '2015-11-22', '2015-11-19', '2015-11-21', '2015-11-20',\n",
              "       '2015-11-24', '2015-11-25', '2015-11-23', '2015-11-28',\n",
              "       '2015-11-26', '2015-11-27', '2015-11-29', '2015-12-04',\n",
              "       '2015-12-01', '2015-12-06', '2015-12-08', '2015-12-02',\n",
              "       '2015-12-03', '2015-12-31', '2015-12-05', '2015-12-10',\n",
              "       '2015-12-17', '2015-11-30', '2015-12-12', '2015-12-07',\n",
              "       '2016-01-05', '2015-12-11', '2015-12-13', '2015-12-15',\n",
              "       '2015-12-16', '2015-12-19', '2015-12-18', '2015-12-26',\n",
              "       '2015-12-27', '2015-12-22', '2015-12-23', '2015-12-24',\n",
              "       '2015-12-29', '2015-12-28', '2015-12-20', '2015-12-30',\n",
              "       '2016-01-02', '2016-01-01', '2015-12-25', '2016-01-03',\n",
              "       '2016-01-04', '2016-01-11', '2016-01-07', '2015-12-21',\n",
              "       '2016-01-09', '2016-01-10', '2016-01-08', '2016-01-06',\n",
              "       '2016-01-12', '2016-01-13', '2016-01-23', '2016-02-09',\n",
              "       '2016-01-15', '2016-01-16', '2016-01-17', '2016-01-19',\n",
              "       '2016-01-18', '2016-01-21', '2016-01-24', '2016-01-22',\n",
              "       '2016-01-29', '2016-01-27', '2016-01-25', '2016-03-08',\n",
              "       '2016-01-26', '2016-01-20', '2016-01-30', '2016-02-01',\n",
              "       '2016-02-02', '2016-02-08', '2016-02-07', '2016-01-28',\n",
              "       '2016-02-05', '2016-02-03', '2016-02-13', '2016-02-10',\n",
              "       '2016-02-04', '2016-02-12', '2016-02-11', '2016-02-16',\n",
              "       '2016-02-14', '2016-02-15', '2016-02-20', '2016-02-06',\n",
              "       '2016-01-14', '2016-02-17', '2016-02-21', '2016-02-24',\n",
              "       '2016-02-25', '2016-02-19', '2016-02-18', '2016-02-26',\n",
              "       '2016-02-23', '2016-03-05', '2016-02-22', '2016-02-27',\n",
              "       '2016-03-03', '2016-03-24', '2016-03-04', '2016-02-29',\n",
              "       '2016-03-01', '2016-03-02', '2016-03-30', '2016-03-07',\n",
              "       '2016-03-14', '2016-03-21', '2016-03-09', '2016-03-12',\n",
              "       '2016-03-22', '2016-03-10', '2016-03-11', '2016-03-20',\n",
              "       '2016-03-15', '2016-03-17', '2016-03-16', '2016-03-19',\n",
              "       '2016-03-27', '2016-03-18', '2016-03-26', '2016-03-31',\n",
              "       '2016-03-28', '2016-03-29', '2016-04-01', '2016-03-23',\n",
              "       '2016-04-02', '2016-03-25', '2016-03-13', '2016-04-04',\n",
              "       '2016-04-03', '2016-04-05', '2016-04-08', '2016-04-06',\n",
              "       '2016-04-09', '2016-04-12', '2016-04-16', '2016-04-17',\n",
              "       '2016-04-27', '2016-04-14', '2016-04-18', '2016-04-21',\n",
              "       '2016-04-19', '2016-04-20', '2016-04-10', '2016-04-13',\n",
              "       '2016-04-11', '2016-04-07', '2016-04-15', '2016-04-22',\n",
              "       '2016-04-23', '2016-04-26', '2016-04-28', '2016-04-24',\n",
              "       '2016-04-25', '2016-04-29', '2016-04-30', '2016-05-01',\n",
              "       '2016-05-10', '2016-05-02', '2016-05-07', '2016-05-08',\n",
              "       '2016-05-12', '2016-05-04', '2016-05-06', '2016-05-03',\n",
              "       '2016-05-09', '2016-05-05', '2016-05-13', '2016-05-14',\n",
              "       '2016-05-18', '2016-05-19', '2016-05-15', '2016-05-16',\n",
              "       '2016-05-11', '2016-05-21', '2016-05-22', '2016-05-20',\n",
              "       '2016-05-24', '2016-05-25', '2016-05-26', '2016-05-23',\n",
              "       '2016-05-27', '2016-05-17', '2016-05-29', '2016-05-28',\n",
              "       '2016-05-30', '2016-05-31', '2016-06-01', '2016-06-03',\n",
              "       '2016-06-08', '2016-06-02', '2016-06-05', '2016-06-06',\n",
              "       '2016-06-13', '2016-06-07', '2016-06-10', '2016-06-11',\n",
              "       '2016-06-16', '2016-06-12', '2016-06-14', '2016-06-17',\n",
              "       '2016-06-04', '2016-06-18', '2016-06-21', '2016-06-09',\n",
              "       '2016-06-24', '2016-06-20', '2016-06-25', '2016-06-22',\n",
              "       '2016-06-26', '2016-06-23', '2016-07-01', '2016-06-15',\n",
              "       '2016-06-28', '2016-07-02', '2016-06-19', '2016-06-27',\n",
              "       '2016-07-04', '2016-06-30', '2016-07-05', '2016-07-08',\n",
              "       '2016-07-09', '2016-07-07', '2016-07-12', '2016-06-29',\n",
              "       '2016-07-10', '2016-07-15', '2016-07-03', '2016-07-16',\n",
              "       '2016-07-14', '2016-07-18', '2016-07-13', '2016-07-06',\n",
              "       '2016-07-20', '2016-07-21', '2016-07-23', '2016-07-19',\n",
              "       '2016-07-11', '2016-07-28', '2016-07-17', '2016-07-25',\n",
              "       '2016-07-22', '2016-07-29', '2016-08-03', '2016-08-02',\n",
              "       '2016-08-04', '2016-08-08', '2016-08-10', '2016-08-01',\n",
              "       '2016-08-06', '2016-03-06', '2016-08-05', '2016-07-26',\n",
              "       '2016-08-07', '2016-07-30', '2016-07-24', '2016-08-12',\n",
              "       '2016-07-27', '2016-08-13', '2016-08-18', '2016-08-16',\n",
              "       '2016-08-15', '2016-08-17', '2016-08-11', '2016-07-31',\n",
              "       '2016-08-19', '2016-09-01', '2016-08-23', '2016-08-26',\n",
              "       '2016-08-20', '2016-08-21', '2016-09-04', '2016-08-22',\n",
              "       '2016-08-27', '2016-08-25', '2016-08-09', '2016-09-05',\n",
              "       '2016-08-24', '2016-09-10', '2016-08-29', '2016-09-09',\n",
              "       '2016-08-30', '2016-09-13', '2016-08-31', '2016-09-14',\n",
              "       '2016-09-12', '2016-09-15', '2016-08-14', '2016-09-02',\n",
              "       '2016-09-08', '2016-09-19', '2016-09-16', '2016-09-07',\n",
              "       '2016-09-21', '2016-09-06', '2016-09-22', '2016-09-17',\n",
              "       '2016-09-20', '2016-09-03', '2016-09-26', '2016-09-23',\n",
              "       '2016-09-18', '2016-09-29', '2016-10-02', '2016-10-01',\n",
              "       '2016-09-27', '2016-09-25', '2016-10-05', '2016-09-11',\n",
              "       '2016-09-30', '2016-10-09', '2016-10-03', '2016-10-06',\n",
              "       '2016-10-11', '2016-09-24', '2016-10-13', '2016-09-28',\n",
              "       '2016-10-08', '2016-10-07', '2016-10-16', '2016-08-28',\n",
              "       '2016-10-17', '2016-10-18', '2016-10-10', '2016-10-04',\n",
              "       '2016-10-15', '2016-10-19', '2016-10-21', '2016-10-12',\n",
              "       '2016-10-24', '2016-10-26', '2016-10-23', '2016-10-20',\n",
              "       '2016-10-25', '2016-10-27', '2016-10-28', '2016-10-30',\n",
              "       '2016-10-29', '2016-11-01', '2016-11-04', '2016-10-14',\n",
              "       '2016-11-07', '2016-11-03', '2016-11-10', '2016-11-14',\n",
              "       '2016-11-02', '2016-10-31', '2016-11-11', '2016-11-08',\n",
              "       '2016-11-05', '2016-11-25', '2016-11-09', '2016-11-20',\n",
              "       '2016-10-22', '2016-11-22', '2016-11-16', '2016-11-23',\n",
              "       '2016-11-17', '2016-11-06', '2016-11-15', '2016-11-13',\n",
              "       '2016-11-12', '2016-11-21', '2016-11-27', '2016-11-19',\n",
              "       '2016-11-30', '2016-11-18', '2016-12-02', '2016-12-04',\n",
              "       '2016-11-29', '2016-12-07', '2016-11-28', '2016-12-03',\n",
              "       '2016-12-06', '2016-11-24', '2016-12-08', '2016-12-05',\n",
              "       '2016-12-10', '2016-12-13', '2016-12-14', '2016-12-16',\n",
              "       '2016-12-15', '2016-12-17', '2016-12-19', '2016-12-21',\n",
              "       '2016-12-20', '2016-12-22', '2016-12-23', '2016-12-24',\n",
              "       '2016-12-01', '2016-12-27', '2016-12-29', '2016-12-30',\n",
              "       '2016-12-12', '2017-01-02', '2016-12-11', '2017-01-03',\n",
              "       '2017-01-04', '2017-01-01', '2016-12-26', '2017-01-06',\n",
              "       '2016-12-28', '2016-12-18', '2017-01-10', '2017-01-11',\n",
              "       '2017-01-07', '2017-01-12', '2017-01-16', '2017-01-14',\n",
              "       '2017-01-13', '2017-01-05', '2017-01-17', '2017-01-20',\n",
              "       '2016-12-09', '2017-01-26', '2016-12-31', '2017-01-23',\n",
              "       '2017-01-27', '2017-01-28', '2017-01-19', '2017-01-25',\n",
              "       '2017-01-24', '2017-01-29', '2017-01-18', '2016-12-25',\n",
              "       '2017-01-15', '2017-01-21', '2017-02-01', '2017-02-02',\n",
              "       '2017-01-31', '2017-02-03', '2017-02-04', '2017-02-06',\n",
              "       '2017-02-07', '2017-02-08', '2017-01-30', '2017-02-09',\n",
              "       '2017-01-09', '2017-02-11', '2017-02-10', '2017-02-12',\n",
              "       '2017-02-13', '2017-02-14', '2017-02-16', '2017-02-17',\n",
              "       '2017-02-18', '2017-02-19', '2017-02-20', '2017-02-15',\n",
              "       '2017-02-21', '2017-02-22', '2017-02-26', '2017-02-23',\n",
              "       '2017-02-24', '2017-02-25', '2017-02-28', '2017-03-05',\n",
              "       '2017-02-27', '2017-03-03', '2017-03-06', '2017-03-02',\n",
              "       '2017-03-08', '2017-03-09', '2017-03-10', '2017-03-07',\n",
              "       '2017-03-12', '2017-03-13', '2017-03-14', '2017-03-01',\n",
              "       '2017-03-18', '2017-03-17', '2017-03-24', '2017-03-22',\n",
              "       '2017-03-26', '2017-03-27', '2017-03-11', '2017-03-28',\n",
              "       '2017-03-29', '2017-03-30', '2017-03-31', '2017-03-19',\n",
              "       '2017-01-22', '2017-04-02', '2017-03-20', '2017-04-03',\n",
              "       '2017-01-08', '2017-03-23', '2017-04-05', '2017-02-05',\n",
              "       '2017-04-04', '2017-03-15', '2017-04-07', '2017-03-25',\n",
              "       '2017-04-08', '2017-04-06', '2017-03-21', '2017-04-10',\n",
              "       '2017-04-01', '2017-04-11', '2017-04-13', '2017-04-15',\n",
              "       '2017-04-12', '2017-03-04', '2017-04-19', '2017-04-22',\n",
              "       '2017-04-20', '2017-05-02', '2017-04-09', '2017-04-23',\n",
              "       '2017-04-24', '2017-04-16', '2017-04-28', '2017-04-18',\n",
              "       '2017-04-26', '2017-04-25', '2017-04-17', '2017-04-21',\n",
              "       '2017-05-03', '2017-05-04', '2017-03-16', '2017-05-05',\n",
              "       '2017-04-29', '2017-04-14', '2017-05-08', '2017-04-27',\n",
              "       '2017-05-11', '2017-05-01', '2017-05-10', '2017-05-13',\n",
              "       '2017-05-06', '2017-05-14', '2017-05-16', '2017-04-30',\n",
              "       '2017-05-15', '2017-05-07', '2017-05-09', '2017-05-17',\n",
              "       '2017-05-21', '2017-05-12', '2017-05-22', '2017-05-24',\n",
              "       '2017-05-23', '2017-05-25', '2017-05-26', '2017-05-28',\n",
              "       '2017-05-27', '2017-05-29', '2017-05-19', '2017-05-31',\n",
              "       '2017-05-20', '2017-06-01', '2017-05-30', '2017-06-02',\n",
              "       '2016-11-26', '2017-06-04', '2017-06-05', '2017-06-06',\n",
              "       '2017-06-07', '2017-05-18', '2017-06-09', '2017-06-10',\n",
              "       '2017-06-11', '2017-06-12', '2017-06-14', '2017-06-08',\n",
              "       '2017-06-16', '2017-06-13', '2017-06-03', '2017-06-24',\n",
              "       '2017-06-20', '2017-06-19', '2017-06-21', '2017-06-26',\n",
              "       '2017-06-27', '2017-06-22', '2017-06-28', '2017-06-15',\n",
              "       '2017-06-29', '2017-06-30', '2017-06-18', '2017-07-04',\n",
              "       '2017-07-08', '2017-07-05', '2017-07-03', '2017-07-07',\n",
              "       '2017-07-01', '2017-07-06', '2017-07-11', '2017-07-12',\n",
              "       '2017-06-23', '2017-07-13', '2017-07-02', '2017-07-10',\n",
              "       '2017-07-14', '2017-07-15', '2017-07-16', '2017-07-18',\n",
              "       '2017-07-17', '2017-07-19', '2017-07-20', '2017-07-21',\n",
              "       '2017-06-25', '2017-06-17', '2017-07-24', '2017-07-26',\n",
              "       '2017-07-09', '2017-07-27', '2017-07-28', '2017-07-31',\n",
              "       '2017-07-29', '2017-07-22', '2017-08-02', '2017-08-01',\n",
              "       '2017-08-03', '2017-08-04', '2017-07-25', '2017-07-23',\n",
              "       '2017-08-09', '2017-08-10', '2017-07-30', '2017-08-07',\n",
              "       '2017-08-13', '2017-08-05', '2017-08-14', '2017-08-08',\n",
              "       '2017-08-16', '2017-08-17', '2017-08-15', '2017-08-18',\n",
              "       '2017-08-20', '2017-08-22', '2017-08-06', '2017-08-25',\n",
              "       '2017-08-26', '2017-08-23', '2017-08-11', '2017-08-27',\n",
              "       '2017-08-21', '2017-08-29', '2017-08-31', '2017-08-12',\n",
              "       '2017-08-19', '2016-01-31', '2017-09-01', '2017-08-28',\n",
              "       '2015-04-03', '2015-01-21', '2015-01-28', '2015-01-29',\n",
              "       '2015-01-30', '2015-02-02', '2015-02-05', '2015-02-06',\n",
              "       '2015-02-09', '2015-02-10', '2015-02-11', '2015-02-12',\n",
              "       '2015-02-19', '2015-02-20', '2015-02-23', '2015-02-24',\n",
              "       '2015-02-25', '2015-02-26', '2015-02-27', '2015-03-03',\n",
              "       '2015-03-04', '2015-03-06', '2015-03-09', '2015-03-11',\n",
              "       '2015-03-12', '2015-03-18', '2015-04-02', '2015-06-14',\n",
              "       '2015-04-08', '2015-04-16', '2015-04-25', '2015-04-28',\n",
              "       '2015-05-08', '2017-09-06', '2016-02-28', '2015-12-09',\n",
              "       '2015-12-14', '2017-09-09', '2017-09-02', '2017-08-24',\n",
              "       '2017-08-30', '2017-09-03', '2017-09-04', '2017-09-05',\n",
              "       '2017-09-07', '2017-09-08', '2017-09-10', '2017-09-12',\n",
              "       '2017-09-14', '2015-04-30', '2015-04-21', '2015-04-05',\n",
              "       '2015-03-13', '2015-05-05', '2015-03-29', '2015-06-10',\n",
              "       '2015-04-27', '2014-10-17', '2015-01-20', '2015-02-17',\n",
              "       '2015-03-10', '2015-03-23'], dtype=object)"
            ]
          },
          "execution_count": 57,
          "metadata": {},
          "output_type": "execute_result"
        }
      ],
      "source": [
        "df['reservation_status_date'].unique()"
      ]
    },
    {
      "cell_type": "markdown",
      "metadata": {
        "id": "o5s32fm3C5sl"
      },
      "source": [
        "## **3. Data Wrangling**"
      ]
    },
    {
      "cell_type": "code",
      "execution_count": null,
      "metadata": {
        "id": "-pwkanvwC38A"
      },
      "outputs": [],
      "source": [
        "# Write your code to make your dataset analysis ready.\n",
        "df[['children', 'company', 'agent']] = df[['children', 'company', 'agent']].astype('int64')"
      ]
    },
    {
      "cell_type": "markdown",
      "metadata": {
        "id": "_o1w8loeDIan"
      },
      "source": [
        "Converting datatype of columns 'children', 'company' and 'agent' from float to int as number of children, number of company and number of agent cannot be float which are always be in integer data type."
      ]
    },
    {
      "cell_type": "code",
      "execution_count": null,
      "metadata": {
        "id": "ZDKPCKWcDFY1"
      },
      "outputs": [],
      "source": [
        "df['reservation_status_date'] = pd.to_datetime(df['reservation_status_date'], format = '%Y-%m-%d')"
      ]
    },
    {
      "cell_type": "markdown",
      "metadata": {
        "id": "HELR2LuBD92t"
      },
      "source": [
        "Changing datatype of column 'reservation_status_date' to data_type."
      ]
    },
    {
      "cell_type": "code",
      "execution_count": null,
      "metadata": {
        "id": "Z95f2K0CECQu"
      },
      "outputs": [],
      "source": [
        "df['total_stay'] = df['stays_in_weekend_nights']+df['stays_in_week_nights']"
      ]
    },
    {
      "cell_type": "markdown",
      "metadata": {
        "id": "XWsCk3L2EJj-"
      },
      "source": [
        "Adding total staying days in hotels."
      ]
    },
    {
      "cell_type": "code",
      "execution_count": null,
      "metadata": {
        "id": "ecUXRY54ENl_"
      },
      "outputs": [],
      "source": [
        "df['total_people'] = df['adults']+df['children']+df['babies']"
      ]
    },
    {
      "cell_type": "markdown",
      "metadata": {
        "id": "RWQMP2cKESXc"
      },
      "source": [
        "Adding total people num as column, i.e. total people num = num of adults + children + babies.\n",
        "\n",
        "These columns are useful for further analysis."
      ]
    },
    {
      "cell_type": "markdown",
      "metadata": {
        "id": "O5LQXNZOHLcE"
      },
      "source": [
        "# Export file into excel file into drive for creating dashboard in tableau"
      ]
    },
    {
      "cell_type": "code",
      "execution_count": null,
      "metadata": {
        "id": "K1UL3cgQFdU7"
      },
      "outputs": [],
      "source": [
        "df.to_excel(\"/content/drive/MyDrive/Project/hotel_booking_excel.xlsx\")"
      ]
    },
    {
      "cell_type": "markdown",
      "metadata": {
        "id": "HckH3UGdETVU"
      },
      "source": [
        "## **Dashboard Link :**"
      ]
    },
    {
      "cell_type": "markdown",
      "metadata": {
        "id": "5AfCFwV_EiuU"
      },
      "source": [
        "https://public.tableau.com/app/profile/santoshi.m/viz/HotelBookingDatasetAnalysis/Dashboard1"
      ]
    },
    {
      "cell_type": "markdown",
      "source": [
        "## **Project Image**"
      ],
      "metadata": {
        "id": "ryJ-xfCaYJnw"
      }
    },
    {
      "cell_type": "markdown",
      "source": [
        "![Dashboard 1.png](data:image/png;base64,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)"
      ],
      "metadata": {
        "id": "aaA3MdipWjH9"
      }
    },
    {
      "cell_type": "markdown",
      "source": [
        "## **Conclusion**"
      ],
      "metadata": {
        "id": "gR1R1dbiYPbv"
      }
    },
    {
      "cell_type": "markdown",
      "source": [
        "1. Majority of people prefer city hotels. So hotels should increase in city as their numbers to get more revenue.\n",
        "2. Online TA market Segment mostly utilized by customer for booking hotels. So online TA market segment have to be increase and add some features to make userfriendly. Other market segments also have to improve.\n",
        "3. Most of the customer stays in week nights. So add Welcome drink on weekends and discounts for new customers on weekends.\n",
        "3. Transient customers cancels more often but when people book in group it leads to lesser cancellations, hence hotels should provide some offers to decrease cancellations.\n",
        "4. Maximum number of bookings are in the month May to August, so hotels should provide exciting offers to customers to increase their booking in off season.\n",
        "5. As hotels are getting less repeated customers so management should take customer’s feedback and improve the hotel facilities to increase count of their repeated guests.\n",
        "6. Chances of cancellation is high when there are no deposits taken by hotels, so hotels should take minimum deposits to minimise the rate of cancellation.\n",
        "7. We have a huge number of visitors from western Europe namely Portugal, France, UK and same countries generate highest revenue. Marketing teams should target these countries to get more customers.\n"
      ],
      "metadata": {
        "id": "5DJqgtycYWTn"
      }
    }
  ],
  "metadata": {
    "colab": {
      "provenance": [],
      "authorship_tag": "ABX9TyNGE4JPO8IGlXDhnBWzYaSA",
      "include_colab_link": true
    },
    "kernelspec": {
      "display_name": "Python 3",
      "name": "python3"
    },
    "language_info": {
      "name": "python"
    }
  },
  "nbformat": 4,
  "nbformat_minor": 0
}